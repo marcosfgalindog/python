{
 "cells": [
  {
   "cell_type": "markdown",
   "metadata": {},
   "source": [
    "Marcos Galindo\n",
    "\n",
    "**PROYECCIÓN VECTORIAL**\n",
    "\n",
    "La proyección vectorial es aplicada entre dos vectores (entes de n dimesiones, con cada dimensión definida por objetos que son escalares), sean dichos vectores **a** y **b**, entonces la proyección vectorial del vector **a** sobre el vector **b** es es un vector con dirección igual u opuesta **b**, este tendra como magnitud igual a la proyección del vector **a** sobre **b**. Esta puede ser entendida como la sombra que el vector **a** proyecta sobre el vector **b** al momento de tener una lampara sobre el vector **a** ubicada perpendicular al vector **b**."
   ]
  },
  {
   "cell_type": "code",
   "execution_count": 23,
   "metadata": {},
   "outputs": [
    {
     "name": "stdout",
     "output_type": "stream",
     "text": [
      "[16.12203461 21.49604615 26.87005769]\n"
     ]
    }
   ],
   "source": [
    "import numpy as np\n",
    "\n",
    "a=np.array([2,3,4])\n",
    "b=np.array([3,4,5])\n",
    "b_magnitude=(sum(np.square(b)))**0.5\n",
    "c=b/b_magnitude\n",
    "\n",
    "print(np.dot(a,b)*c)"
   ]
  },
  {
   "cell_type": "markdown",
   "metadata": {},
   "source": [
    "**DEFINICIÓN**\n",
    "\n",
    "La proyección vectorial del vector **a** sobre el vector **b** es un vector igual a \n",
    "\n",
    "vec_project= (a·b)*b_u\n",
    "\n",
    "donde **a·b**  es el producto punto entre **a** y **b**, y  **b_u** es un vector con la misma dirección de **b** pero tiene magnitud uno (1). "
   ]
  },
  {
   "cell_type": "code",
   "execution_count": 30,
   "metadata": {},
   "outputs": [],
   "source": [
    "def projec_vect_left_on_right(x,y):\n",
    "    punto=np.dot(x,y)\n",
    "    uni_vect=y/(sum(np.square(y)))**0.5\n",
    "    return punto*uni_vect"
   ]
  },
  {
   "cell_type": "markdown",
   "metadata": {},
   "source": [
    "**INTERPRETACIÓN**\n",
    "\n",
    "La projección vectorial puede ser interpretada como se mencionó en el primer párrafo, es un vector con medida igual a la sombre proyectada de **a** sobre **b**, y con sentido igual a **b**."
   ]
  },
  {
   "cell_type": "code",
   "execution_count": 28,
   "metadata": {},
   "outputs": [
    {
     "data": {
      "text/plain": [
       "array([16.12203461, 21.49604615, 26.87005769])"
      ]
     },
     "execution_count": 28,
     "metadata": {},
     "output_type": "execute_result"
    }
   ],
   "source": [
    "a=np.array([2,3,4])\n",
    "b=np.array([3,4,5])\n",
    "\n",
    "projec_vect_left_on_right(a,b)"
   ]
  },
  {
   "cell_type": "markdown",
   "metadata": {},
   "source": [
    "El resultado anterior puede ser interpretado como un un vector con dicha dimensión que es paralelo a **b** y que posee su misma dirección. \n",
    "\n",
    "\n",
    "**USO EN MACHINE LEARNING**\n",
    "\n",
    "Al momento de realizar una projección vectorial, ocurre un mapeo de una dimensión mayor hacia una ya conocida de menor dimensión. Esto puede ser empleado al momento de querer visualizar data o simplificarun problema en una dimensión mayor. "
   ]
  }
 ],
 "metadata": {
  "kernelspec": {
   "display_name": "Python 3",
   "language": "python",
   "name": "python3"
  },
  "language_info": {
   "codemirror_mode": {
    "name": "ipython",
    "version": 3
   },
   "file_extension": ".py",
   "mimetype": "text/x-python",
   "name": "python",
   "nbconvert_exporter": "python",
   "pygments_lexer": "ipython3",
   "version": "3.6.5"
  }
 },
 "nbformat": 4,
 "nbformat_minor": 2
}
