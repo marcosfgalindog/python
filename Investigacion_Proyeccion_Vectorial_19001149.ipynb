{
 "cells": [
  {
   "cell_type": "markdown",
   "metadata": {},
   "source": [
    "Marcos Galindo\n",
    "\n",
    "**PROYECCIÓN VECTORIAL**\n",
    "\n",
    "La proyección vectorial es aplicada entre dos vectores (entes de n dimesiones, con cada dimensión definida por objetos que son escalares), sean dichos vectores **a** y **b**, entonces la proyección vectorial del vector **a** sobre el vector **b** es es un vector con dirección igual u opuesta **b**, este tendra como magnitud igual a la proyección del vector **a** sobre **b**. Esta puede ser entendida como la sombra que el vector **a** proyecta sobre el vector **b** al momento de tener una lampara sobre el vector **a** ubicada perpendicular al vector **b**."
   ]
  },
  {
   "cell_type": "code",
   "execution_count": 10,
   "metadata": {},
   "outputs": [
    {
     "name": "stdout",
     "output_type": "stream",
     "text": [
      "[16.12203461 21.49604615 26.87005769]\n"
     ]
    }
   ],
   "source": [
    "import numpy as np\n",
    "\n",
    "a=np.array([2,3,4])\n",
    "b=np.array([3,4,5])\n",
    "b_magnitude=(sum(np.square(b)))**0.5\n",
    "c=b/b_magnitude\n",
    "\n",
    "print(np.dot(a,b)*c)"
   ]
  },
  {
   "cell_type": "markdown",
   "metadata": {},
   "source": [
    "**DEFINICIÓN**\n",
    "\n",
    "La proyección vectorial del vector **a** sobre el vector **b** es un vector igual a \n",
    "\n",
    "vec_project= (a·b)*b_u\n",
    "\n",
    "donde **a·b**  es el producto punto entre **a** y **b**, y  **b_u** es un vector con la misma dirección de **b** pero tiene magnitud uno (1). \n",
    "\n",
    "Esta puede ser definida en una función como se muestra a continuación:\n"
   ]
  },
  {
   "cell_type": "code",
   "execution_count": 9,
   "metadata": {},
   "outputs": [
    {
     "data": {
      "text/plain": [
       "array([2.28, 3.04, 3.8 ])"
      ]
     },
     "execution_count": 9,
     "metadata": {},
     "output_type": "execute_result"
    }
   ],
   "source": [
    "def projec_vect_left_on_right(x,y):\n",
    "    punto=np.dot(x,y)\n",
    "    uni_vect=y/(np.sqrt(np.sum(np.square(y))))\n",
    "    return punto*uni_vect/(np.sqrt(np.sum(np.square(y))))\n",
    "\n",
    "a=np.array([2,3,4])\n",
    "b=np.array([3,4,5]) \n",
    "\n",
    "projec_vect_left_on_right(a,b)"
   ]
  },
  {
   "cell_type": "markdown",
   "metadata": {},
   "source": [
    "**INTERPRETACIÓN**\n",
    "\n",
    "La projección vectorial puede ser interpretada como se mencionó en el primer párrafo, es un vector con medida igual a la sombre proyectada de **a** sobre **b**, y con sentido igual a **b**."
   ]
  },
  {
   "cell_type": "code",
   "execution_count": 28,
   "metadata": {},
   "outputs": [
    {
     "data": {
      "text/plain": [
       "array([16.12203461, 21.49604615, 26.87005769])"
      ]
     },
     "execution_count": 28,
     "metadata": {},
     "output_type": "execute_result"
    }
   ],
   "source": [
    "a=np.array([2,3,4])\n",
    "b=np.array([3,4,5])\n",
    "\n",
    "projec_vect_left_on_right(a,b)"
   ]
  },
  {
   "cell_type": "markdown",
   "metadata": {},
   "source": [
    "El resultado anterior puede ser interpretado como un un vector con dicha dimensión que es paralelo a **b** y que posee su misma dirección. "
   ]
  },
  {
   "cell_type": "markdown",
   "metadata": {},
   "source": [
    "**PRODUCTO CRUZ**\n",
    "\n",
    "Este es otro objeto que nos ayuda a medir como se comportan dos vectores. Este se define como una especie de  determinante de una matrix que posee como primer fila cada uno de los vectores unitarios en las dimensiones que se esten trabjando, luego en segunda y tercera fila, se tienen las componentes del primer vector y segundo vector respectivamente. Cabe mencionar que la idea y concepto de Producto cruz, se encuentra definido únicamente en tercera y séptima dimensión. \n",
    "\n",
    "**DEFINICIÓN**"
   ]
  },
  {
   "cell_type": "code",
   "execution_count": 14,
   "metadata": {},
   "outputs": [
    {
     "data": {
      "text/plain": [
       "array([-1,  2, -1])"
      ]
     },
     "execution_count": 14,
     "metadata": {},
     "output_type": "execute_result"
    }
   ],
   "source": [
    "def producto_cruz(x,y):\n",
    "    return np.cross(x,y)\n",
    "\n",
    "a=np.array([2,3,4])\n",
    "b=np.array([3,4,5])\n",
    "\n",
    "producto_cruz(a,b)"
   ]
  },
  {
   "cell_type": "markdown",
   "metadata": {},
   "source": [
    "**INTERPRETACION**\n",
    "\n",
    "Este en tres dimensiones, se puede interpretar como un vector perpendicular a dos vectores dados y tiene una magnitud igual al area formada por un paralelogramo constuido con los vectores dados y sus direcciones. Cabe mencionar que esta operaciones no es commutativa. \n"
   ]
  },
  {
   "cell_type": "markdown",
   "metadata": {},
   "source": [
    "\n",
    "**USO DE PRODUCTO DICHAS OPERACIONES EN MACHINE LEARNING**\n",
    "\n",
    "Al momento de realizar una projección vectorial, ocurre un mapeo de una dimensión mayor hacia una ya conocida de menor dimensión. Esto puede ser empleado al momento de querer visualizar data o simplificarun problema en una dimensión mayor. \n",
    "Entre estas se puede mencionar Neural Networks, en el cual se busca poder encontrar o producir un vector que se asemeje lo más posible dada una base de datos, en este proceso se comparará por medio de las neuronas si éstas se parecen más a un vector al compararlos por medio de la proyección vectorial, la cual en sí se puede interpretar como una forma de compara que tan igual son dos vectores entre sí."
   ]
  },
  {
   "cell_type": "markdown",
   "metadata": {},
   "source": [
    "**CONCLUSIONES**\n",
    "\n",
    "Se puede entender que la proyección vectorial es una herramienta muy sencilla que permite poder realizar analisis con una cantidad basta de aplicaciones. Como lo es en Neuronal Nerwork, en ellas se hace uso de proyección vectorial para poder pedir que tan parecidos son dos vectores dados. Al momento de querer comparar dos vectores y su similitud, esto nos permite ver y poder acoplar información a necesidades que tengamos. Como lo puede ser comparar una información con vectores que representen perdidas en un negocio, una imagen de un objeto que se busca, buscar tendencias en comportamientos de mercado, reconocimiento de voz, etc. "
   ]
  }
 ],
 "metadata": {
  "kernelspec": {
   "display_name": "Python 3",
   "language": "python",
   "name": "python3"
  },
  "language_info": {
   "codemirror_mode": {
    "name": "ipython",
    "version": 3
   },
   "file_extension": ".py",
   "mimetype": "text/x-python",
   "name": "python",
   "nbconvert_exporter": "python",
   "pygments_lexer": "ipython3",
   "version": "3.6.5"
  }
 },
 "nbformat": 4,
 "nbformat_minor": 2
}
