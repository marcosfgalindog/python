{
 "cells": [
  {
   "cell_type": "markdown",
   "metadata": {},
   "source": [
    "**Tarea**\n",
    "\n",
    "1. Funciones en Python: Es una instrucción en forma de código que toma o no algún objeto y debe de regresar un valor o no. En esta definición se incluyen las funciones triviales que no toman argumentos y no devuelven nada. En general las funciones realizan una acción que se mecaniza para ser implementada nuevamente después. Esto brinda comodidad y eficiencia."
   ]
  },
  {
   "cell_type": "code",
   "execution_count": 2,
   "metadata": {},
   "outputs": [
    {
     "data": {
      "text/plain": [
       "True"
      ]
     },
     "execution_count": 2,
     "metadata": {},
     "output_type": "execute_result"
    }
   ],
   "source": [
    "def xor(a,b):\n",
    "    return (a or b) and (not (a and b));\n",
    "\n",
    "xor(0,1)"
   ]
  },
  {
   "cell_type": "markdown",
   "metadata": {},
   "source": [
    "2. Parametros posisionales: son argumentos que son empleados en una función sin necesidad de tener que ser definidos como una variable, y "
   ]
  },
  {
   "cell_type": "code",
   "execution_count": 3,
   "metadata": {},
   "outputs": [
    {
     "data": {
      "text/plain": [
       "True"
      ]
     },
     "execution_count": 3,
     "metadata": {},
     "output_type": "execute_result"
    }
   ],
   "source": [
    "xor(True,False)"
   ]
  },
  {
   "cell_type": "markdown",
   "metadata": {},
   "source": [
    "3. Parametros nombrados: en comparación a los posisionales, estos pueden ser definidos al momento de ser llamada la función. "
   ]
  },
  {
   "cell_type": "code",
   "execution_count": 24,
   "metadata": {},
   "outputs": [
    {
     "name": "stdout",
     "output_type": "stream",
     "text": [
      "x es 2 y b es 6 y por ultimo z es 10\n",
      "x es 30 y b es 5 y por ultimo z es 2\n",
      "x es 10 y b es 5 y por ultimo z es 45\n"
     ]
    }
   ],
   "source": [
    "def func(x, b=5, z=10):\n",
    "    print ('x es', x, 'y b es', b, 'y por ultimo z es', z)\n",
    "\n",
    "func(2, 6)\n",
    "func(30, z=2)\n",
    "func(z=45, x=10)"
   ]
  },
  {
   "cell_type": "markdown",
   "metadata": {},
   "source": [
    "4. Retorno de multiples valores: indica la posibilidad de poder retornar multiples valores como resultdao de haber operado una función. "
   ]
  },
  {
   "cell_type": "code",
   "execution_count": 25,
   "metadata": {},
   "outputs": [
    {
     "data": {
      "text/plain": [
       "(True, True)"
      ]
     },
     "execution_count": 25,
     "metadata": {},
     "output_type": "execute_result"
    }
   ],
   "source": [
    "def doblexor(a, b):\n",
    "    result = (xor(a,b), xor((not a),(not b)))\n",
    "    return result\n",
    "\n",
    "doblexor(0,1)"
   ]
  },
  {
   "cell_type": "markdown",
   "metadata": {},
   "source": [
    "5. Funciones como objetos y como parametros de otras funciones, esto indica que las funciones pueden ser usadas como argumentos al momento de definir una funcion. "
   ]
  },
  {
   "cell_type": "code",
   "execution_count": 26,
   "metadata": {},
   "outputs": [
    {
     "name": "stdout",
     "output_type": "stream",
     "text": [
      "este xor es verdadero\n"
     ]
    }
   ],
   "source": [
    "def xor_verdadero(xor):\n",
    "    temporary = True\n",
    "    if xor == True :\n",
    "        print('este xor es verdadero')\n",
    "    else:\n",
    "        print('este xor es falso')\n",
    "    \n",
    "\n",
    "xor_verdadero(xor(0,1))\n",
    "    "
   ]
  },
  {
   "cell_type": "markdown",
   "metadata": {},
   "source": [
    "6. Funciones anonimas o lambda: Siendo definidas sin un nombre, son utilizadas en ocaciones que una funcion sera usada una vez. Estas funciones regresan como valor la expresion que se definio para dicha funcion."
   ]
  },
  {
   "cell_type": "code",
   "execution_count": 27,
   "metadata": {},
   "outputs": [
    {
     "data": {
      "text/plain": [
       "False"
      ]
     },
     "execution_count": 27,
     "metadata": {},
     "output_type": "execute_result"
    }
   ],
   "source": [
    "revertidor_de_xor = lambda a, b: (not (xor(a,b)) )\n",
    "revertidor_de_xor(1,0)"
   ]
  }
 ],
 "metadata": {
  "kernelspec": {
   "display_name": "Python 3",
   "language": "python",
   "name": "python3"
  },
  "language_info": {
   "codemirror_mode": {
    "name": "ipython",
    "version": 3
   },
   "file_extension": ".py",
   "mimetype": "text/x-python",
   "name": "python",
   "nbconvert_exporter": "python",
   "pygments_lexer": "ipython3",
   "version": "3.6.5"
  }
 },
 "nbformat": 4,
 "nbformat_minor": 2
}
