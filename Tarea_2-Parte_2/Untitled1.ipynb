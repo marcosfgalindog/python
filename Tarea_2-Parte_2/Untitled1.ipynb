{
 "cells": [
  {
   "cell_type": "code",
   "execution_count": 1,
   "metadata": {},
   "outputs": [],
   "source": [
    "import numpy as np\n",
    "\n",
    "def mov(x):\n",
    "    x_med, x_ar, x_ab, x_0, x_f = x[1:-1],x[2:], x[:-2], x[0], x[-1]\n",
    "    x_new_med = (x_med + x_ar + x_ab)/3\n",
    "    return(np.hstack([x_0, x_new_med, x_f]))\n",
    "\n",
    "\n"
   ]
  },
  {
   "cell_type": "code",
   "execution_count": 9,
   "metadata": {},
   "outputs": [
    {
     "name": "stdout",
     "output_type": "stream",
     "text": [
      "<class 'numpy.ndarray'>\n",
      "[2.  1.5 1.  0.5 0.  0.5 1.  1.5 2. ]\n"
     ]
    }
   ],
   "source": [
    "x = np.linspace(-2,2,9)\n",
    "print(type(x))\n",
    "\n",
    "## tu codigo aqui (~ 4 linea de codigo)\n",
    "x_1 = list(x)\n",
    "\n",
    "\n",
    "\n",
    "\n",
    "z = map(lambda p: p if p >=0 else p * -1, x_1 )\n",
    "print(np.array(list(z)))\n",
    "\n",
    "booly \n",
    "\n"
   ]
  },
  {
   "cell_type": "code",
   "execution_count": null,
   "metadata": {},
   "outputs": [],
   "source": []
  }
 ],
 "metadata": {
  "kernelspec": {
   "display_name": "Python 3",
   "language": "python",
   "name": "python3"
  },
  "language_info": {
   "codemirror_mode": {
    "name": "ipython",
    "version": 3
   },
   "file_extension": ".py",
   "mimetype": "text/x-python",
   "name": "python",
   "nbconvert_exporter": "python",
   "pygments_lexer": "ipython3",
   "version": "3.6.5"
  }
 },
 "nbformat": 4,
 "nbformat_minor": 2
}
