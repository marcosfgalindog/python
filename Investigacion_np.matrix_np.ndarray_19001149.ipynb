{
 "cells": [
  {
   "cell_type": "markdown",
   "metadata": {},
   "source": [
    "**INVESTIGACIÓN DE NP.MATRIX Y NP.NDARRAY**\n",
    "\n",
    "**np.matrix**\n",
    "\n",
    "Esta es una función de del paquete de Numpy que retorna una matriz a partir de objetos como arreglos (np.array's) o de \"strings\" de información. Es importante notar que una matrix es un estructura de dos dimensiones especializada que retiene su forma de dos dimenciones a través de cualquier operación que se realice sobre ella. Esta parte de numpy posee estructuras que pueden lidiar con cálculos, conteo, transpuestas, matrices inversas, etc., y cualquier tipo de operaciones normales en las que se requiera operar con matrices como se haría matemáticamente.  Esta posee operadores speciales, como lo son la multiplicación de matrices ( * ) y la potenciación de matrices ( ** ) para matrices cuadradas o que puedan usar de esta operación. A continuación se muestran dos ejemplos en los que una matrix puede ser descrita y sus operaciones aplicadas a ellas mismas.  \n"
   ]
  },
  {
   "cell_type": "code",
   "execution_count": 6,
   "metadata": {},
   "outputs": [
    {
     "data": {
      "text/plain": [
       "matrix([[1, 0],\n",
       "        [0, 1]])"
      ]
     },
     "execution_count": 6,
     "metadata": {},
     "output_type": "execute_result"
    }
   ],
   "source": [
    "import numpy as np\n",
    "\n",
    "# Matriz identidad con potenciación.\n",
    "\n",
    "a = np.matrix([[1,0],[0,1]])\n",
    "print(a)\n",
    "a**2"
   ]
  },
  {
   "cell_type": "code",
   "execution_count": 9,
   "metadata": {},
   "outputs": [
    {
     "data": {
      "text/plain": [
       "matrix([[4, 0],\n",
       "        [0, 4]])"
      ]
     },
     "execution_count": 9,
     "metadata": {},
     "output_type": "execute_result"
    }
   ],
   "source": [
    "#Matrix por medio de strings y con multiplicación de matrices. \n",
    "\n",
    "b = np.matrix('2 0 ; 0 2') \n",
    "b*b"
   ]
  },
  {
   "cell_type": "markdown",
   "metadata": {},
   "source": [
    "np.matrix es actualmente soportado aún entre las funciones de Numpy. Aunque cabe mencionar que no es recomendable usarse y que posiblemente será descontinuado en un futuro cercano. \n",
    "\n",
    "Matrix y Array pueden ser utilizados en cualquier instancia, aunque al momento de escoger, siempre es recomendable usar array dado que es más flexible, más rápido y además es versátil dado que produce los mismos efectos que en matrix."
   ]
  },
  {
   "cell_type": "markdown",
   "metadata": {},
   "source": [
    "**np.ndarray**\n",
    "\n",
    "Un arreglo (array) representa un objeto que puede poseer muchas dimensiones, y que es de homogeneo en su estructura con un tamaño constante. El objeto al que se asocie el arreglo es del cual se deriva el formato del tipo de elemento dentro de dicho arreglo. Esto se refiere a cuántos bytes toma en la memoria, el orden de los mismos, si es un integer, un float,  un string, etc. Estos son construidos por medio de las funciones \"array\", \"zeros\" y \"empty\". Debe de mencionarse que np.ndarray y np.array se refieren a objetos un tanto diferentes. Esto puede explicarse de manera más sencilla como np.array es una función que produce ndarray's.\n"
   ]
  },
  {
   "cell_type": "code",
   "execution_count": 16,
   "metadata": {},
   "outputs": [
    {
     "data": {
      "text/plain": [
       "array([[ 2466489208326711748, -4868191853866445980,  1404626795472302041],\n",
       "       [                9409,  -338929850024238080,  1339922683755668480],\n",
       "       [-2419098927672597031, -8543861186044387644,  6737196288012130041]])"
      ]
     },
     "execution_count": 16,
     "metadata": {},
     "output_type": "execute_result"
    }
   ],
   "source": [
    "#Esto generara una matrix con 3 filas y 3 columnas, que tendra valores aleatorios del tipo indiciado.\n",
    "\n",
    "x = np.ndarray(shape=(3,3), dtype=int)\n",
    "x*x"
   ]
  },
  {
   "cell_type": "code",
   "execution_count": 19,
   "metadata": {},
   "outputs": [
    {
     "data": {
      "text/plain": [
       "array([[0., 0., 0.],\n",
       "       [0., 0., 0.],\n",
       "       [0., 0., 0.]])"
      ]
     },
     "execution_count": 19,
     "metadata": {},
     "output_type": "execute_result"
    }
   ],
   "source": [
    "#Acá podemos observar que numpy puede tomar variables como formas para poder crear arrays, en este caso todos con zeros.\n",
    "z = (3,3)\n",
    "y = np.zeros(z)\n",
    "y"
   ]
  },
  {
   "cell_type": "markdown",
   "metadata": {},
   "source": [
    "**Bibliografía**\n",
    "\n",
    "np.matrix\n",
    "\n",
    "https://docs.scipy.org/doc/numpy/reference/generated/numpy.ndarray.html\n",
    "https://blog.csdn.net/pipisorry/article/details/48791403\n",
    "\n",
    "np.ndarray\n",
    "\n",
    "https://docs.scipy.org/doc/numpy/reference/generated/numpy.ndarray.html\n",
    "https://ithelp.ithome.com.tw/articles/10185093\n",
    "https://stackoverflow.com/questions/15879315/what-is-the-difference-between-ndarray-and-array-in-numpy\n",
    "\n"
   ]
  }
 ],
 "metadata": {
  "kernelspec": {
   "display_name": "Python 3",
   "language": "python",
   "name": "python3"
  },
  "language_info": {
   "codemirror_mode": {
    "name": "ipython",
    "version": 3
   },
   "file_extension": ".py",
   "mimetype": "text/x-python",
   "name": "python",
   "nbconvert_exporter": "python",
   "pygments_lexer": "ipython3",
   "version": "3.6.5"
  }
 },
 "nbformat": 4,
 "nbformat_minor": 2
}
