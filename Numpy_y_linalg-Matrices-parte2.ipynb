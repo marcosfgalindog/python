{
 "cells": [
  {
   "cell_type": "markdown",
   "metadata": {},
   "source": [
    "# NumPy y algebra lineal(parte 2) \n",
    "\n",
    "\n",
    "Ya hemos estudiado el objeto básico en algebra lineal: **el vector** ,algunos de sus usos e interpretaciones , así como la forma de trabajar con estos en Python a través de NumPy ,funciones matemáticas útiles y comunes entre otras cosas.\n",
    "\n",
    "Además mencionamos el objeto general **Tensor** y su equivalente en NumPy : **np.ndarray**. \n",
    "\n",
    "En esta parte del curso nos enfocamos en otro objeto muy importante en algebra lineal y en ciencia de datos: **la matriz**.\n",
    "\n",
    "Muchas de las cosas que aprendimos en vectores aplican también a matrices,algunas exactamente igual, algunas con pequeñas variaciones, y algunas otras si son específicas .De manera similar muchas cosas que aprenderemos en matrices también aplican y son consistentes en el caso mas géneral: **arreglos multidimensionales(o tensores matemáticamente)** de manera que podemos generalizar mucho de lo aprendido.\n",
    "\n",
    "## ¿Por que estudiamos matrices en ciencia de datos?\n",
    "\n",
    "Similar al caso de vectores, usamos matrices para almacenar y operar en colecciones de datos.\n",
    "\n",
    "Cuando estudiamos previamente vectores , los vectores representaban en la mayoría de casos 2 tipos de información:\n",
    "\n",
    "* Una única observación o entidad con múltiples características: Por ejemplo los ejemplos de distribuciones discretas de probabilidad usadas en los ejemplos de entropía,una única observación con múltiples características(la probabilidad de ocurrencia de cada valor).\n",
    "* Múltiples observaciones o entidades, con una sola característica: cuando hicimos el ejemplo de medias móviles teniamos múltiples observaciones o entidades(cada punto de datos) pero cada observación tenia una sola característica.\n",
    "\n",
    "Esto puede bastar en muchos casos, pero para la mayoría de problemas trabajaremos con  muchas observaciones que poseen mas de una característica. Por lo cual necesitamos una estructura mas general que nos permita hacer esto, la estructura que nos permite hacer esto es lo que conocemos en matemática como **matriz** y en programación comunmente llamamos **arreglo bi-dimensional**\n",
    "\n",
    "**nota**: desafortunadamente el término dimension(y su derivado :dimensional) puede llegar a ser ambiguo , por ejemplo  : un vector bi-dimensional es algo completamente diferente a un arreglo bi-dimensional ,el vector bi-dimensional es una colección de 2 elementos mientras que el arreglo bi-dimensional es una estructura tabular que requiere de 2 coordenadas(o indices) para ser accedido.\n",
    "\n",
    "## ¿ Que es una matriz?\n",
    "\n",
    "Hay diversas definiciones de matriz , siendo la mas común: **un arreglo bidimensional de números**. Algunas otras definiciones desde el punto de vista matemático son:\n",
    "\n",
    "* Conjunto de números distribuidos ORDENADAMENTE de forma rectangular formando filas y columnas.\n",
    "* Tabla de números ORDENADOS.\n",
    "* Colección tabular de elementos distribuidos en filas y columnas.\n",
    "\n",
    "En matemática la definición suele estar orientada e incluso limitada a números(se dice que una matriz es una colección de elementos que pueden ser sumados y multiplicados) ,en programación se extiende un poco esto y podemos trabajar en algunos casos con colecciones rectangulares de otros tipos de objetos , para efectos de ciencia de datos nos enfocamos mayormente también en matrices como:**colecciones de números organizados de manera rectangular(distribuidos en filas y columnas)**.\n",
    "\n",
    "En matemática comunmente denotamos las matrices con letras mayúsculas, esta es una práctica que aveces adoptamos también en programación.\n",
    "\n",
    "\n",
    "<img src=\"https://ekuatio.com/wp-content/uploads/tipos-de-matrices-12.png\"/>\n",
    "\n",
    "<img src=\"http://www.multivariado.sobralmatematica.org/textos/derivada_files/matriz_34.png\"/>\n",
    "\n",
    "### Dimension o tamaño de una matriz\n",
    "\n",
    "El tamaño o dimensión de una matriz nos indica cuantos elementos esta posee y como estos se organizan en filas y columnas, comunmente denotamos el t amaño o dimensión como:\n",
    "$$ m x n $$\n",
    "\n",
    "* m = número de filas: comunmente número de observaciones, entidades o eventos\n",
    "* n = número de columnas : número de características de interes o descriptivas de cada elemento.\n",
    "\n",
    "<img src=\"https://upload.wikimedia.org/wikipedia/commons/thumb/b/bb/Matrix.svg/1200px-Matrix.svg.png\">\n",
    "\n",
    "**Nota** : esto no es un estandar y pueden llegar a variar:\n",
    "* encontrarse casos donde la data este organizada por columna siendo m = número de columnas y n = número de filas.\n",
    "* En computer visión aveces se toman las posiciones en filas de abajo hacia arriba.\n",
    "### Ejemplos:\n",
    "\n",
    "* En Machine Learning para datos estructurados comunmente trabajamos con muchas observaciones llamadas \"ejemplos de entrenamiento\" donde cada ejemplo esta caracterizado por múltiples características(llamadas features en ML), para esto usamos una matriz.\n",
    "* En analisis de correlación entre variables podemos almacenar múltiples variables para múltiples observaciones.\n",
    "* En deep learnig los parametros(pesos sinapticos) de una red neuronal  son representados como matrices \n",
    "\n",
    "<img src=\"https://gdsgenie.com/gds-training/statistical-data-set/?view_eckr=statistical+data+set.png\">\n",
    "\n",
    "## Matriz como Tensor\n",
    "\n",
    "Tal como ya hemos mencionado, el objeto mas general en algebra lineal es el **tensor** y tanto vectores como matrices son un **tensor** , la característica que determina cuando un tensor es una matriz o un vector es el **rango del tensor**, el rango es un entero que nos indica cuantos valores necesitamos para poder acceder o especificar a un elemento dentro del tensor.\n",
    "\n",
    "* **Escalares**: tensor de rango 0, puesto que son un único elemento numérico y no pertenecen a una colección , no tiene sentido la noción de tener un número indicando su posición en una colección.\n",
    "* **Vectores**: tensor de rango 1, lo conceptualizamos como una lista de elementos por lo tanto necesitamos 1 número para especificar la posición de cierto elemento en la lista.\n",
    "* **Matriz**: tensor de rango 2, pensamos en la matriz como una colección de números organizados de forma  rectangular en filas y columnas por lo tanto para acceder o especificar un elemento de la matriz necesitamos 2 números : 1 para la fila(que comunmente representamos con \"i\") y otro para la columna(que comunmente representamos con \"j\") en la que se encuentra cierto elemento.\n",
    "\n",
    "## Representación o interpretación geométrica/gráfica de una matriz\n",
    "\n",
    "**Nota** El siguiente punto no es demasiado relevante para esta parte del curso.\n",
    "\n",
    "Tal como vimos que un vector podía tener una representación geométrica como puntos en el espacio(o flechas apuntando del origen a puntos) una matriz también interpretarse de manera geométrica o gráfica ,hablaremos un poco de esto en el futuro :\n",
    "\n",
    "* **Matriz como transformación lineal**\n",
    "\n",
    "<img src=\"https://thumbs.gfycat.com/HealthyPerfectHaddock-max-1mb.gif\">\n",
    "\n",
    "<img src=\"https://thumbs.gfycat.com/SmartNearAmericancrocodile-max-1mb.gif\">\n",
    "\n",
    "## Matrices en NumPy\n",
    "\n",
    "En NumPy las matrices son(de manera similar a los vectores) son objetos del tipo **np.ndarray**, la diferencia es la forma en que estos estan organizados y por lo tanto ciertas características de los mismos. Para una matríz tenemos que:\n",
    "\n",
    "* **ndim**: el rango es igual a 2\n",
    "* **shape** : la forma o tamaño de la matriz es una **tupla de la forma (m,n)** con m siendo el número de filas y n el número de columnas. De manera similar muchas funciones  para crear matrices utilizan como parámetro una tupla para definir la forma en la que será creada.\n"
   ]
  },
  {
   "cell_type": "code",
   "execution_count": 2,
   "metadata": {},
   "outputs": [],
   "source": [
    "## Para poder utilizar numpy debemos importar el paquete, es casi un estandar de la industria importarlo bajo el alias **\"np\"**\n",
    "import numpy as np"
   ]
  },
  {
   "cell_type": "markdown",
   "metadata": {},
   "source": [
    "## Visualizacion de datos en Python\n",
    "\n",
    "Con el conocimiento que ya poseemos para trabajar con Python y Numpy, y el conocimiento de matrices podemos empezar a a estudiar un tema muy importante en ciencia de datos: **visualizacion de datos**.\n",
    "\n",
    "La visualizacion de datos es sumamente importante y tiene muchos usos, es una herramienta escencial en la fase de todo proyecto de data science conocida como **\"analisis exploratorio de datos\"**.\n",
    "\n",
    "### Analisis exploratorio de datos\n",
    "\n",
    "El analisis exploratorio de datos , tal y como su nombre indica nos permite explorar, entender, conocer y familiarizarnos con los datos,lo cual es muy recomendable en todo proyecto y se recomienda hacerlo antes de empezar a hacer pruebas de hipotesis, modelado matematico/estadistico o modelado por machine learning o cualquier otra tecnica  de ciencia de datos.\n",
    "\n",
    "<img src=\"https://cdn-images-1.medium.com/max/1200/1*vJULpN2xQfyVsvTVW-JSkA.png\">\n",
    "\n",
    "### Otros usos\n",
    "\n",
    "Ademas del analisis exploratorio de datos, la visualizacion de los mismos es muy util y aplicado en muchas otras areas:\n",
    "\n",
    "* Modelacion y simulacion: analisis del comportamiento de una variable bajo analisis a traves de simulacion.\n",
    "<img src=\"https://risk-engineering.org/static/img/large/monte-carlo-VaR.png\">\n",
    "* Curvas de aprendizaje: durante el desarrollo de un proyecto de ML es necesario evaluar el funcionamiento de un modelo de ML y su comportamiento a traves del tiempo durante el entrenamiento.\n",
    "<img src=\"https://3qeqpr26caki16dnhd19sv6by6v-wpengine.netdna-ssl.com/wp-content/uploads/2018/10/Line-Plot-of-Train-and-Test-Loss-During-Training-With-Simple-Early-Stopping.png\">\n",
    "* Comparar modelo de ML vs datos reales\n",
    "<img src=\"https://s3.amazonaws.com/stackabuse/media/linear-regression-python-scikit-learn-1.png\">\n",
    "* Visualizacion de imagenenes en proyectos de vision por computadora.\n",
    "<img src=\"https://encrypted-tbn0.gstatic.com/images?q=tbn:ANd9GcQY4FRGTsV_ugt6DyJmolPHiiaDH3lLCEaGSuh_ZN0NUjrOM_VE7Q\">\n",
    "\n",
    "\n",
    "Existen diversos paquetes para visualizacion de datos en Python,pero el mas popular, usado y conocido en la industria es: \n",
    "#### Matplotlib"
   ]
  },
  {
   "cell_type": "code",
   "execution_count": 3,
   "metadata": {},
   "outputs": [],
   "source": [
    "import matplotlib.pyplot as plt"
   ]
  },
  {
   "cell_type": "markdown",
   "metadata": {},
   "source": [
    "Veamos ahora como manipular detalles de la gráfica como:\n",
    "* Grid de las coordenadas de la gráfica.\n",
    "* Especificar manualmente los intervalos de \"x\" y \"y\" en la gráfica."
   ]
  },
  {
   "cell_type": "code",
   "execution_count": 3,
   "metadata": {},
   "outputs": [
    {
     "data": {
      "image/png": "iVBORw0KGgoAAAANSUhEUgAAAYQAAAEWCAYAAABmE+CbAAAABHNCSVQICAgIfAhkiAAAAAlwSFlz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\n",
      "text/plain": [
       "<matplotlib.figure.Figure at 0x10ebeaa58>"
      ]
     },
     "metadata": {},
     "output_type": "display_data"
    }
   ],
   "source": [
    "x = np.linspace(-5,5,100)\n",
    "y = np.square(x) -2 \n",
    "\n",
    "fig = plt.figure()\n",
    "ax = fig.add_subplot(1,1,1) #creamos un canvas con  1 fila, 1 columna y devolvemos una referencia a la primera grafica\n",
    "#ax = fig.add_subplot(111) \n",
    "\n",
    "ax.grid()\n",
    "ax.set_xlim(-7,7)\n",
    "ax.set_ylim(-5,25)\n",
    "ax.plot(x,y)\n",
    "\n",
    "ax.set_xlabel('x')\n",
    "ax.set_ylabel('y')\n",
    "ax.set_title('Grafica de y = x**2 - 2')\n",
    "\n",
    "plt.show()"
   ]
  },
  {
   "cell_type": "markdown",
   "metadata": {},
   "source": [
    "Veamos ahora un caso de uso muy común en data science: **multiples curvas en una sola gráfica**"
   ]
  },
  {
   "cell_type": "code",
   "execution_count": 4,
   "metadata": {},
   "outputs": [
    {
     "data": {
      "image/png": "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\n",
      "text/plain": [
       "<Figure size 432x288 with 1 Axes>"
      ]
     },
     "metadata": {},
     "output_type": "display_data"
    }
   ],
   "source": [
    "x = np.linspace(-5,5,100)\n",
    "y1 = np.square(x) -2 \n",
    "y2 = np.sin(x) + 2*np.cos(x)\n",
    "\n",
    "fig = plt.figure()\n",
    "ax = fig.add_subplot(1,1,1) #creamos un canvas con  1 fila, 1 columna y devolvemos una referencia a la primera grafica\n",
    "#ax = fig.add_subplot(111) \n",
    "\n",
    "ax.grid()\n",
    "ax.set_xlim(-7,7)\n",
    "ax.set_ylim(-5,25)\n",
    "\n",
    "ax.plot(x,y1,label = \"x**2 - 2 \") #\n",
    "ax.plot(x,y2,label = \"sin(x) + 2cos(x)\")\n",
    "\n",
    "ax.legend() #si no ejecutamos la función \"legend\" , no se mostraran los labels usados con plot\n",
    "ax.set_xlabel('x')\n",
    "ax.set_ylabel('y')\n",
    "ax.set_title('2 curvas en una gráfica')\n",
    "\n",
    "plt.show()"
   ]
  },
  {
   "cell_type": "markdown",
   "metadata": {},
   "source": [
    "##### Error Bars\n",
    "\n",
    "Nos hemos enfocado en 2 tipos de gráficas:\n",
    "* plots: para graficar funciones o modelos matemáticos o datos donde queremos que matplotlib una con una linea los puntos\n",
    "* scatterplots: para graficar datos colocando solo los puntos en el espacio sin lineas que los unen, algo común cuando no se conoce ninguna función o modelo para estos datos.\n",
    "\n",
    "Ahora aprenderemos otro tipo de visualización de datos muy utilizada en ciencia de datos: **Barras de error**.\n",
    "\n",
    "Usamos las barras de error en casos en los cuales conocemos el valor real, o el valor esperado ademas de valores de error o bien datos con \"ruido\" y deseamos comparar en una sola gráfica los datos correctos vs las observaciones erroreas o ruidosas.\n",
    "\n",
    "De manera resumida, nos ayudan a visualizar incerteza, variabilidad o proveer un estimado del posible error existente en los datos, por ejemplo podríamos usarlo para comparar como se desvian o cuanto error hay entre los valores generados por un modelo vs los datos reales.\n",
    "\n",
    "https://datavizcatalogue.com/methods/error_bars.html\n",
    "\n",
    "En matplotlib usamos la función **errorbar** https://matplotlib.org/api/_as_gen/matplotlib.pyplot.errorbar.html\n",
    "\n",
    "Esto significa que para cada punto (x,y) tenemos adicional al punto, un valor de error en x \"errx\" y un valor en y \"erry\", errorbar graficará el punto (x,y) junto con lineas adicionales que representan el error y que se encuentran en los intervalos:\n",
    "\n",
    "* Para x: x-errx,x+errx\n",
    "* Para y: y-erry,y+erry"
   ]
  },
  {
   "cell_type": "code",
   "execution_count": 5,
   "metadata": {},
   "outputs": [
    {
     "data": {
      "image/png": "iVBORw0KGgoAAAANSUhEUgAAAXcAAAD8CAYAAACMwORRAAAABHNCSVQICAgIfAhkiAAAAAlwSFlz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\nNej/ACzbiGM0TZK4AAAAAElFTkSuQmCC\n",
      "text/plain": [
       "<matplotlib.figure.Figure at 0x112335f98>"
      ]
     },
     "metadata": {},
     "output_type": "display_data"
    }
   ],
   "source": [
    "x = np.linspace(0,4,4) \n",
    "y = np.exp(-x)\n",
    "\n",
    "x_error = 0.08*np.random.randn(len(x)) #medida del error en x\n",
    "y_error = 0.1*np.random.randn(len(y)) #medida del error en y\n",
    "\n",
    "fig = plt.figure()\n",
    "ax = fig.add_subplot(111)\n",
    "ax.errorbar(x,y,xerr=x_error,yerr=y_error,ecolor=\"r\",fmt=\"bo\",elinewidth=1)\n",
    "\n",
    "plt.show()"
   ]
  },
  {
   "cell_type": "code",
   "execution_count": 6,
   "metadata": {},
   "outputs": [
    {
     "name": "stdout",
     "output_type": "stream",
     "text": [
      "[ 0.          1.33333333  2.66666667  4.        ] [-0.0270839  -0.05660952  0.00646574  0.06834822]\n"
     ]
    }
   ],
   "source": [
    "print(x,x_error)"
   ]
  },
  {
   "cell_type": "code",
   "execution_count": 7,
   "metadata": {},
   "outputs": [
    {
     "name": "stdout",
     "output_type": "stream",
     "text": [
      "[ 0.0270839   1.38994286  2.66020093  3.93165178] [-0.0270839   1.27672381  2.6731324   4.06834822]\n"
     ]
    }
   ],
   "source": [
    "print(x-x_error,x+x_error)"
   ]
  },
  {
   "cell_type": "code",
   "execution_count": 8,
   "metadata": {},
   "outputs": [
    {
     "name": "stdout",
     "output_type": "stream",
     "text": [
      "[ 1.          0.26359714  0.06948345  0.01831564] [ 0.04929271  0.05762355  0.0791043  -0.0200866 ]\n"
     ]
    }
   ],
   "source": [
    "print(y,y_error)"
   ]
  },
  {
   "cell_type": "code",
   "execution_count": 9,
   "metadata": {},
   "outputs": [
    {
     "name": "stdout",
     "output_type": "stream",
     "text": [
      "[ 0.95070729  0.20597358 -0.00962085  0.03840224] [ 1.04929271  0.32122069  0.14858775 -0.00177096]\n"
     ]
    }
   ],
   "source": [
    "print(y-y_error,y+y_error)"
   ]
  },
  {
   "cell_type": "code",
   "execution_count": 10,
   "metadata": {},
   "outputs": [
    {
     "name": "stdout",
     "output_type": "stream",
     "text": [
      "El primer punto es : (0.0, 1.0) Su error en  x va de  0.0270838986986  a  -0.0270838986986\n"
     ]
    }
   ],
   "source": [
    "print(\"El primer punto es :\",(x[0],y[0]),\"Su error en  x va de \",x[0]-x_error[0] ,\" a \",x[0]+x_error[0])"
   ]
  },
  {
   "cell_type": "markdown",
   "metadata": {},
   "source": [
    "Mismo ejemplo pero con mas observaciones:"
   ]
  },
  {
   "cell_type": "code",
   "execution_count": 11,
   "metadata": {},
   "outputs": [
    {
     "data": {
      "image/png": "iVBORw0KGgoAAAANSUhEUgAAAYAAAAD8CAYAAAB+UHOxAAAABHNCSVQICAgIfAhkiAAAAAlwSFlz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\nQmCC\n",
      "text/plain": [
       "<matplotlib.figure.Figure at 0x1125e6b38>"
      ]
     },
     "metadata": {},
     "output_type": "display_data"
    }
   ],
   "source": [
    "x = np.linspace(0,4,20) \n",
    "y = np.exp(-x)\n",
    "\n",
    "x_error = 0.08*np.random.randn(len(x)) #medida del error en x\n",
    "y_error = 0.1*np.random.randn(len(y)) #medida del error en y\n",
    "\n",
    "fig = plt.figure()\n",
    "ax = fig.add_subplot(111)\n",
    "ax.errorbar(x,y,xerr=x_error,yerr=y_error,ecolor=\"r\",fmt=\"bo\",elinewidth=1)\n",
    "\n",
    "plt.show()"
   ]
  },
  {
   "cell_type": "code",
   "execution_count": 6,
   "metadata": {},
   "outputs": [
    {
     "data": {
      "image/png": "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\n",
      "text/plain": [
       "<Figure size 432x288 with 1 Axes>"
      ]
     },
     "metadata": {},
     "output_type": "display_data"
    }
   ],
   "source": [
    "x = np.linspace(-5,5,100)\n",
    "y = np.square(x-1) + 5 \n",
    "\n",
    "fig = plt.figure()\n",
    "ax = fig.add_subplot(1,1,1) #creamos un canvas con  1 fila, 1 columna y devolvemos una referencia a la primera grafica\n",
    "#ax = fig.add_subplot(111) \n",
    "\n",
    "ax.grid()\n",
    "ax.set_xlim(-7,7)\n",
    "ax.set_ylim(-5,25)\n",
    "ax.plot(x,y)\n",
    "\n",
    "ax.set_xlabel('x')\n",
    "ax.set_ylabel('y')\n",
    "ax.set_title('Grafica de y = (x-1)**2 + 5')\n",
    "\n",
    "ax.annotate(\"Punto minimo en (1,5)\",xy=(1,5),xytext=(2,0),arrowprops=dict(facecolor=\"black\",width=1))\n",
    "\n",
    "plt.show()"
   ]
  },
  {
   "cell_type": "markdown",
   "metadata": {},
   "source": [
    "##### Visualizacion de datos en mas de 2 dimensiones\n",
    "\n",
    "Comunmente los datasets con los cuales necesitamos trabajar poseen multiples dimensiones y es comun necesitar visualizar y entender como se comportan .\n",
    "\n",
    "##### Curvas de nivel(o mapas de contorno) \n",
    "\n",
    "Las curvas de nivel proveen una forma de visualizar y entender datos en 3 dimensiones a partir de visualizar como estos se comportan en el plano 2 dimensiones, esto a traves de crear curvas en el plano 2d donde el valor de z es constante(es decir el mismo) .\n",
    "\n",
    "Esto significa que las curvas de nivel son un reflejo en el plano 2d de la grafica 3d, donde para cierta curva especifica de la grafica en 2d todos todos los puntos que pertenecen a ella corresponden a un mismo valor de z.\n",
    "\n",
    "En matploblib tenemos 2 funciones para crear curvas de nivel:\n",
    "\n",
    "* contour: https://matplotlib.org/api/_as_gen/matplotlib.axes.Axes.contour.html\n",
    "* contourf(la f significa \"filled\"): https://matplotlib.org/api/_as_gen/matplotlib.axes.Axes.contourf.html\n",
    "\n",
    "<img src=\"http://image.slidesharecdn.com/superficies-140414185353-phpapp01/95/superficies-geometria-analitica-41-638.jpg?cb=1397501875\">\n",
    "\n",
    "<img src=\"https://image.isu.pub/130613213242-77d9b89bd1d7eadb40bb803cc4b0633c/jpg/page_15.jpg\">"
   ]
  },
  {
   "cell_type": "code",
   "execution_count": 13,
   "metadata": {},
   "outputs": [
    {
     "data": {
      "image/png": "iVBORw0KGgoAAAANSUhEUgAAAZgAAAEVCAYAAADdFfNTAAAABHNCSVQICAgIfAhkiAAAAAlwSFlz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\nrkJggg==\n",
      "text/plain": [
       "<matplotlib.figure.Figure at 0x1128f1f60>"
      ]
     },
     "metadata": {},
     "output_type": "display_data"
    }
   ],
   "source": [
    "xv = np.linspace(-10,10,50)\n",
    "yv = np.linspace(-10,10,50)\n",
    "\n",
    "# creamos el grid con las coordenadas en el plano x,y\n",
    "xx,yy = np.meshgrid(xv,yv)\n",
    "\n",
    "# calculamos el valor de evaluar la función z = f(x,y) sobre las coordenadas en el plano\n",
    "z = xx**2 + yy**2\n",
    "\n",
    "fig = plt.figure()\n",
    "ax = fig.add_subplot(1,1,1)\n",
    "\n",
    "curvas_nivel = ax.contour(xx,yy,z)#,3,colors=[\"b\",\"r\",\"k\"])\n",
    "#ax.clabel(curvas_nivel)\n",
    "fig.colorbar(curvas_nivel,orientation=\"vertical\")\n",
    "\n",
    "fig.suptitle(\"Curvas de nivel o mapas de contorno de la funcion \",fontsize=15)\n",
    "plt.show()"
   ]
  },
  {
   "cell_type": "code",
   "execution_count": 14,
   "metadata": {},
   "outputs": [
    {
     "data": {
      "image/png": "iVBORw0KGgoAAAANSUhEUgAAAZMAAAEKCAYAAADXdbjqAAAABHNCSVQICAgIfAhkiAAAAAlwSFlz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\n",
      "text/plain": [
       "<matplotlib.figure.Figure at 0x112ae0668>"
      ]
     },
     "metadata": {},
     "output_type": "display_data"
    }
   ],
   "source": [
    "from mpl_toolkits.mplot3d import Axes3D\n",
    "\n",
    "\n",
    "xv = np.linspace(-10,10,50)\n",
    "yv = np.linspace(-10,10,50)\n",
    "\n",
    "# creamos el grid con las coordenadas en el plano x,y\n",
    "xx,yy = np.meshgrid(xv,yv)\n",
    "\n",
    "# calculamos el valor de evaluar la función z = f(x,y) sobre las coordenadas en el plano\n",
    "z = xx**2 + yy**2\n",
    "\n",
    "fig = plt.figure()\n",
    "ax = fig.add_subplot(1,1,1,projection='3d')\n",
    "\n",
    "ax.contour(xx,yy,z)#,3,colors=[\"b\",\"r\",\"k\"])\n",
    "#ax.clabel(curvas_nivel)\n",
    "fig.colorbar(curvas_nivel,orientation=\"vertical\")\n",
    "\n",
    "fig.suptitle(\"Curvas de nivel o mapas de contorno de la funcion \",fontsize=15)\n",
    "plt.show()"
   ]
  },
  {
   "cell_type": "code",
   "execution_count": 15,
   "metadata": {},
   "outputs": [
    {
     "data": {
      "image/png": "iVBORw0KGgoAAAANSUhEUgAAAZgAAAEVCAYAAADdFfNTAAAABHNCSVQICAgIfAhkiAAAAAlwSFlz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\nOI7jOKXgAuM4juOUwn8CCPHFvPng67wAAAAASUVORK5CYII=\n",
      "text/plain": [
       "<matplotlib.figure.Figure at 0x113a43048>"
      ]
     },
     "metadata": {},
     "output_type": "display_data"
    }
   ],
   "source": [
    "xv = np.linspace(-10,10,50)\n",
    "yv = np.linspace(-10,10,50)\n",
    "\n",
    "# creamos el grid con las coordenadas en el plano x,y\n",
    "xx,yy = np.meshgrid(xv,yv)\n",
    "\n",
    "# calculamos el valor de evaluar la función z = f(x,y) sobre las coordenadas en el plano\n",
    "z = xx**2 - yy**2\n",
    "\n",
    "fig = plt.figure()\n",
    "ax = fig.add_subplot(1,1,1)\n",
    "\n",
    "curvas_nivel = ax.contourf(xx,yy,z,3)#,3,colors=[\"b\",\"r\",\"k\"])\n",
    "\n",
    "fig.colorbar(curvas_nivel,orientation=\"vertical\")\n",
    "\n",
    "fig.suptitle(\"Curvas de nivel o mapas de contorno de la funcion \",fontsize=15)\n",
    "plt.show()"
   ]
  },
  {
   "cell_type": "code",
   "execution_count": 16,
   "metadata": {},
   "outputs": [
    {
     "data": {
      "image/png": "iVBORw0KGgoAAAANSUhEUgAAAZMAAAEKCAYAAADXdbjqAAAABHNCSVQICAgIfAhkiAAAAAlwSFlz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\nVEbTaLQz0Wg0Gk2j0c5Eo9FoNI3m/wH3L6EzF3qIggAAAABJRU5ErkJggg==\n",
      "text/plain": [
       "<matplotlib.figure.Figure at 0x1125c60f0>"
      ]
     },
     "metadata": {},
     "output_type": "display_data"
    }
   ],
   "source": [
    "xv = np.linspace(-20,20,50)\n",
    "yv = np.linspace(-20,20,50)\n",
    "\n",
    "# creamos el grid con las coordenadas en el plano x,y\n",
    "xx,yy = np.meshgrid(xv,yv)\n",
    "\n",
    "# calculamos el valor de evaluar la función z = f(x,y) sobre las coordenadas en el plano\n",
    "z = xx**2 - yy**2\n",
    "\n",
    "fig = plt.figure()\n",
    "ax = fig.add_subplot(1,1,1,projection=\"3d\")\n",
    "\n",
    "curvas_nivel = ax.contour(xx,yy,z)#,3,colors=[\"b\",\"r\",\"k\"])\n",
    "\n",
    "fig.colorbar(curvas_nivel,orientation=\"vertical\")\n",
    "\n",
    "fig.suptitle(\"Curvas de nivel o mapas de contorno de la funcion \",fontsize=15)\n",
    "plt.show()"
   ]
  },
  {
   "cell_type": "markdown",
   "metadata": {},
   "source": [
    "###### Configurando dinamicamente nuestras graficas usando sentencias de control:\n",
    "\n",
    "Una de las ventajas de matplotlib sobre otras herramientas de visualizacion de datos con un enfoque drag-and-drop , es que podemos utilizar todas las herramientas y flexibilidad que la programacion nos da para configurar nuestras graficas de manera dinamica ,por ejemplo en el siguiente caso utilizamos un ciclo for para crear y configurar mas de una grafica de manera dinamica."
   ]
  },
  {
   "cell_type": "code",
   "execution_count": 17,
   "metadata": {},
   "outputs": [
    {
     "data": {
      "image/png": "iVBORw0KGgoAAAANSUhEUgAAAZMAAAEVCAYAAAAl9QikAAAABHNCSVQICAgIfAhkiAAAAAlwSFlz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\nQmCC\n",
      "text/plain": [
       "<matplotlib.figure.Figure at 0x11283c780>"
      ]
     },
     "metadata": {},
     "output_type": "display_data"
    }
   ],
   "source": [
    "xv = np.linspace(-10,10,50)\n",
    "yv = np.linspace(-10,10,50)\n",
    "\n",
    "# creamos el grid con las coordenadas en el plano x,y\n",
    "xx,yy = np.meshgrid(xv,yv)\n",
    "\n",
    "# calculamos el valor de evaluar la función z = f(x,y) sobre las coordenadas en el plano\n",
    "z = xx**2 - yy**2\n",
    "\n",
    "fig = plt.figure()\n",
    "\n",
    "for i in range(1,5):\n",
    "    ax = fig.add_subplot(2,2,i)\n",
    "    curvas_nivel = ax.contour(xx,yy,z,i)\n",
    "\n",
    "fig.suptitle(\"Curvas de nivel o mapas de contorno de la funcion \",fontsize=15)\n",
    "plt.show()"
   ]
  },
  {
   "cell_type": "markdown",
   "metadata": {},
   "source": [
    "### ufuncs(universal functions)\n",
    "\n",
    "Ufuncs son funciones que trabajan de manera general independiente de la dimension del objeto al que sean aplicadas, esto significa que la misma función puede ser utilizada sobre valores **escalares**  o sobre **tensores** de cualquier dimensión, en este caso sobre matrices. Cuando es aplicada sobre tensores esta trabaja elemento por elemento soportando \"broadcasting\" .\n",
    "\n",
    "NumPy provee una gran colección de ufuncs comunes en ciencias y que serán muy útiles en data science, ya hemos usado algunas por ejemplo: **np.sin(tensor)** , muchas comunes y que te serán familares son:\n",
    "\n",
    "* np.sign: determinar el signo de un número\n",
    "* np.abs: valor absoluto de un número\n",
    "* np.cos: coseno de un angulo en radianes\n",
    "* np.sin : seno de un angulo en radianes\n",
    "* np.tan : tangente de un angulo en radianes\n",
    "* np.exp : función exponencial e** x\n",
    "* np.log: logaritmo natural\n",
    "* np.log10 : logaritmo base 10\n",
    "* np.log2 : logaritmo base 2\n",
    "* np.sqrt : raiz cuadrada\n",
    "* np.power : potenciacion\n",
    "\n",
    "Al ser aplicadas sobre matrices , las ufuncs obtienen como resultado una matriz con la misma forma de la matriz sobre la que se ejecuta la función resultado de aplicar la función elemento por elemento.\n",
    "\n",
    "Al trabajar una aplicación numérica/científica es recomendable tener a la mano la documentación de las funciones disponibles : https://docs.scipy.org/doc/numpy-1.15.1/reference/routines.math.html\n",
    "\n",
    "#### Nota: \n",
    "En algunos casos requeriremos crear nuestras propias funciones y es recomendable que se apeguen a las ufuncs, es decir que se puedan aplicar independiente de la dimensión del objeto al que se aplican, que soporten broadcasting y muy importante **que su definición evite ciclos y use operaciones vectorizadas y otras ufuncs** , esto será parte de los criterios de evaluación en tareas y exámenes en este curso."
   ]
  },
  {
   "cell_type": "code",
   "execution_count": 18,
   "metadata": {},
   "outputs": [
    {
     "name": "stdout",
     "output_type": "stream",
     "text": [
      "Signo:\n",
      "[[ 1  1  1  1]\n",
      " [ 1  1  1  1]\n",
      " [-1 -1 -1 -1]]\n",
      "Valor absoluto:\n",
      "[[1 2 3 4]\n",
      " [5 6 7 8]\n",
      " [1 2 3 4]]\n",
      "Coseno:\n",
      "[[ 0.54030231 -0.41614684 -0.9899925  -0.65364362]\n",
      " [ 0.28366219  0.96017029  0.75390225 -0.14550003]\n",
      " [ 0.54030231 -0.41614684 -0.9899925  -0.65364362]]\n",
      "Seno:\n",
      "[[ 0.84147098  0.90929743  0.14112001 -0.7568025 ]\n",
      " [-0.95892427 -0.2794155   0.6569866   0.98935825]\n",
      " [-0.84147098 -0.90929743 -0.14112001  0.7568025 ]]\n",
      "Tangente:\n",
      "[[ 1.55740772 -2.18503986 -0.14254654  1.15782128]\n",
      " [-3.38051501 -0.29100619  0.87144798 -6.79971146]\n",
      " [-1.55740772  2.18503986  0.14254654 -1.15782128]]\n",
      "Exponencial:\n",
      "[[  2.71828183e+00   7.38905610e+00   2.00855369e+01   5.45981500e+01]\n",
      " [  1.48413159e+02   4.03428793e+02   1.09663316e+03   2.98095799e+03]\n",
      " [  3.67879441e-01   1.35335283e-01   4.97870684e-02   1.83156389e-02]]\n",
      "Logaritmo natural:\n",
      "[[ 0.          0.69314718  1.09861229  1.38629436]\n",
      " [ 1.60943791  1.79175947  1.94591015  2.07944154]\n",
      " [        nan         nan         nan         nan]]\n"
     ]
    },
    {
     "name": "stderr",
     "output_type": "stream",
     "text": [
      "/Users/llealhernandez/anaconda/envs/py_galileo/lib/python3.6/site-packages/ipykernel/__main__.py:16: RuntimeWarning: invalid value encountered in log\n"
     ]
    }
   ],
   "source": [
    "x = np.matrix([[1,2,3,4],[5,6,7,8],[-1,-2,-3,-4]])\n",
    "\n",
    "print(\"Signo:\")\n",
    "print(np.sign(x))\n",
    "print(\"Valor absoluto:\")\n",
    "print(np.abs(x))\n",
    "print(\"Coseno:\")\n",
    "print(np.cos(x))\n",
    "print(\"Seno:\")\n",
    "print(np.sin(x))\n",
    "print(\"Tangente:\")\n",
    "print(np.tan(x))\n",
    "print(\"Exponencial:\")\n",
    "print(np.exp(x))\n",
    "print(\"Logaritmo natural:\")\n",
    "print(np.log(x))"
   ]
  },
  {
   "cell_type": "code",
   "execution_count": 7,
   "metadata": {},
   "outputs": [
    {
     "name": "stdout",
     "output_type": "stream",
     "text": [
      "Logaritmo base 2:\n",
      "[        nan         nan         nan         nan         nan         nan\n",
      "         nan         nan         nan         nan         nan         nan\n",
      "         nan         nan         nan         nan         nan         nan\n",
      "         nan         nan         nan         nan         nan         nan\n",
      "         nan         nan         nan         nan         nan         nan\n",
      "         nan         nan         nan         nan         nan         nan\n",
      "         nan         nan         nan         nan         nan         nan\n",
      "         nan         nan         nan         nan         nan         nan\n",
      "         nan         nan -4.30742853 -2.72246602 -1.98550043 -1.5000736\n",
      " -1.13750352 -0.84799691 -0.60698881 -0.40053793 -0.21996568 -0.05950101\n",
      "  0.0848889   0.21613343  0.33642766  0.44745898  0.55055247  0.64676779\n",
      "  0.73696559  0.82185449  0.90202484  0.97797369  1.05012348  1.11883623\n",
      "  1.18442457  1.24716033  1.30728132  1.36499682  1.42049193  1.47393119\n",
      "  1.52546149  1.57521452  1.62330881  1.6698514   1.71493929  1.75866067\n",
      "  1.80109593  1.84231859  1.88239603  1.92139017  1.95935802  1.99635222\n",
      "  2.03242148  2.06761091  2.10196241  2.13551497  2.16830491  2.20036612\n",
      "  2.23173029  2.26242708  2.29248432  2.32192809]\n"
     ]
    },
    {
     "name": "stderr",
     "output_type": "stream",
     "text": [
      "/home/marcos/anaconda3/lib/python3.6/site-packages/ipykernel_launcher.py:2: RuntimeWarning: invalid value encountered in log2\n",
      "  \n"
     ]
    }
   ],
   "source": [
    "print(\"Logaritmo base 2:\")\n",
    "print(np.log2(x))"
   ]
  },
  {
   "cell_type": "code",
   "execution_count": 8,
   "metadata": {},
   "outputs": [
    {
     "name": "stdout",
     "output_type": "stream",
     "text": [
      "Raiz cuadrada:\n",
      "[       nan        nan        nan        nan        nan        nan\n",
      "        nan        nan        nan        nan        nan        nan\n",
      "        nan        nan        nan        nan        nan        nan\n",
      "        nan        nan        nan        nan        nan        nan\n",
      "        nan        nan        nan        nan        nan        nan\n",
      "        nan        nan        nan        nan        nan        nan\n",
      "        nan        nan        nan        nan        nan        nan\n",
      "        nan        nan        nan        nan        nan        nan\n",
      "        nan        nan 0.22473329 0.38924947 0.50251891 0.59458839\n",
      " 0.67419986 0.74535599 0.81028739 0.87038828 0.92659908 0.97958969\n",
      " 1.0298573  1.07778298 1.12366644 1.16774842 1.21022579 1.25126199\n",
      " 1.29099445 1.32954006 1.36699922 1.40345893 1.43899516 1.47367472\n",
      " 1.50755672 1.5406938  1.57313301 1.60491669 1.63608303 1.66666667\n",
      " 1.69669911 1.72620914 1.75522309 1.78376517 1.81185769 1.83952124\n",
      " 1.86677489 1.89363634 1.92012205 1.94624736 1.97202659 1.99747315\n",
      " 2.02259959 2.04741769 2.07193854 2.09617256 2.12012959 2.14381893\n",
      " 2.16724934 2.19042914 2.21336619 2.23606798]\n"
     ]
    },
    {
     "name": "stderr",
     "output_type": "stream",
     "text": [
      "/home/marcos/anaconda3/lib/python3.6/site-packages/ipykernel_launcher.py:2: RuntimeWarning: invalid value encountered in sqrt\n",
      "  \n"
     ]
    }
   ],
   "source": [
    "print(\"Raiz cuadrada:\")\n",
    "print(np.sqrt(x))"
   ]
  },
  {
   "cell_type": "code",
   "execution_count": 9,
   "metadata": {},
   "outputs": [
    {
     "name": "stdout",
     "output_type": "stream",
     "text": [
      "Exponenciacion(cuadrado):\n",
      "[2.50000000e+01 2.40001020e+01 2.30206101e+01 2.20615243e+01\n",
      " 2.11228446e+01 2.02045710e+01 1.93067034e+01 1.84292419e+01\n",
      " 1.75721865e+01 1.67355372e+01 1.59192939e+01 1.51234568e+01\n",
      " 1.43480257e+01 1.35930007e+01 1.28583818e+01 1.21441690e+01\n",
      " 1.14503622e+01 1.07769615e+01 1.01239669e+01 9.49137843e+00\n",
      " 8.87919600e+00 8.28741965e+00 7.71604938e+00 7.16508520e+00\n",
      " 6.63452709e+00 6.12437506e+00 5.63462912e+00 5.16528926e+00\n",
      " 4.71635547e+00 4.28782777e+00 3.87970615e+00 3.49199061e+00\n",
      " 3.12468115e+00 2.77777778e+00 2.45128048e+00 2.14518927e+00\n",
      " 1.85950413e+00 1.59422508e+00 1.34935211e+00 1.12488522e+00\n",
      " 9.20824406e-01 7.37169677e-01 5.73921028e-01 4.31078461e-01\n",
      " 3.08641975e-01 2.06611570e-01 1.24987246e-01 6.37690032e-02\n",
      " 2.29568411e-02 2.55076013e-03 2.55076013e-03 2.29568411e-02\n",
      " 6.37690032e-02 1.24987246e-01 2.06611570e-01 3.08641975e-01\n",
      " 4.31078461e-01 5.73921028e-01 7.37169677e-01 9.20824406e-01\n",
      " 1.12488522e+00 1.34935211e+00 1.59422508e+00 1.85950413e+00\n",
      " 2.14518927e+00 2.45128048e+00 2.77777778e+00 3.12468115e+00\n",
      " 3.49199061e+00 3.87970615e+00 4.28782777e+00 4.71635547e+00\n",
      " 5.16528926e+00 5.63462912e+00 6.12437506e+00 6.63452709e+00\n",
      " 7.16508520e+00 7.71604938e+00 8.28741965e+00 8.87919600e+00\n",
      " 9.49137843e+00 1.01239669e+01 1.07769615e+01 1.14503622e+01\n",
      " 1.21441690e+01 1.28583818e+01 1.35930007e+01 1.43480257e+01\n",
      " 1.51234568e+01 1.59192939e+01 1.67355372e+01 1.75721865e+01\n",
      " 1.84292419e+01 1.93067034e+01 2.02045710e+01 2.11228446e+01\n",
      " 2.20615243e+01 2.30206101e+01 2.40001020e+01 2.50000000e+01]\n"
     ]
    }
   ],
   "source": [
    "print(\"Exponenciacion(cuadrado):\")\n",
    "print(np.power(x,2))"
   ]
  },
  {
   "cell_type": "markdown",
   "metadata": {},
   "source": [
    "#### Nota: \n",
    "En algunos casos requeriremos crear nuestras propias funciones y es recomendable que se apeguen a las ufuncs, es decir que se puedan aplicar independiente de la dimensión del objeto al que se aplican, que soporten broadcasting y muy importante **que su definición evite ciclos y use operaciones vectorizadas y otras ufuncs** , esto será parte de los criterios de evaluación en tareas y exámenes en este curso."
   ]
  },
  {
   "cell_type": "markdown",
   "metadata": {},
   "source": [
    "## Operaciones , Aritmetica  y Algebra Matricial\n",
    "\n",
    "Similar al caso de vectores, cuando trabajamos con matrices hay algunas operaciones existentes tanto en matematica, como en NumPy y tambien algunas aplicaciones que no estan definidas matematicamente pero que si estan definidas en NumPy para facilitar la programacion y realizar operaciones que pueden resultar utiles al crear programas para analisis de datos o procesamiento de estos,una operacion en especial necesita especial atencion : **multiplicacion matricial** \n",
    "\n",
    "### Aritmetica elemento por elemento\n",
    "\n",
    "La aritmetica elemento por elemento es el tipo de operacion mas simple entre 2 matrices(del mismo tamanio) ,utiliza los operadores  aritmeticos ya conocidos +,-,*,/, % y el resultado como es de esperarse consiste en aplicar la operacion aritmetica entre elementos correspondientes de ambas matrices.\n",
    "\n",
    "Matematicamente solo **estan definidas la  suma y resta de matrices** y el resultado es el mismo obtenido por NumPy.\n",
    "\n",
    "<img src=\"https://www.unilim.fr/pages_perso/jean.debord/math/matrices/addsub.gif\">"
   ]
  },
  {
   "cell_type": "code",
   "execution_count": 22,
   "metadata": {},
   "outputs": [
    {
     "name": "stdout",
     "output_type": "stream",
     "text": [
      "[[ 3 -5]\n",
      " [ 5  1]]\n",
      "[[2 1]\n",
      " [8 9]]\n",
      "v+w:\n",
      "[[ 5 -4]\n",
      " [13 10]]\n"
     ]
    }
   ],
   "source": [
    "v = np.array([[3,-5],[5,1]])\n",
    "w = np.array([[2,1],[8,9]])\n",
    "\n",
    "c = v + w #operacion si definida matematicamente\n",
    "\n",
    "print(v)\n",
    "print(w)\n",
    "\n",
    "print(\"v+w:\")\n",
    "print(c)"
   ]
  },
  {
   "cell_type": "code",
   "execution_count": 23,
   "metadata": {},
   "outputs": [
    {
     "name": "stdout",
     "output_type": "stream",
     "text": [
      "[[ 3 -5]\n",
      " [ 5  1]]\n",
      "[[2 1]\n",
      " [8 9]]\n",
      "v-w:\n",
      "[[ 1 -6]\n",
      " [-3 -8]]\n"
     ]
    }
   ],
   "source": [
    "v = np.array([[3,-5],[5,1]])\n",
    "w = np.array([[2,1],[8,9]])\n",
    "\n",
    "c = v - w #operacion si definida matematicamente\n",
    "\n",
    "print(v)\n",
    "print(w)\n",
    "\n",
    "print(\"v-w:\")\n",
    "print(c)"
   ]
  },
  {
   "cell_type": "markdown",
   "metadata": {},
   "source": [
    "**Producto Hadamard**\n",
    "\n",
    "La multiplicación o producto elemento por elemento entre 2 matrices del mismo tamaño(no confundir con multiplicación matricial) tiene un nombre especial  de \"producto Hadamard\".\n",
    "\n",
    "<img src=\"https://upload.wikimedia.org/wikipedia/commons/thumb/0/00/Hadamard_product_qtl1.svg/220px-Hadamard_product_qtl1.svg.png\">"
   ]
  },
  {
   "cell_type": "code",
   "execution_count": 10,
   "metadata": {},
   "outputs": [
    {
     "name": "stdout",
     "output_type": "stream",
     "text": [
      "[[ 3 -5]\n",
      " [ 5  1]]\n",
      "[[2 1]\n",
      " [8 9]]\n",
      "v o w:\n",
      "[[ 6 -5]\n",
      " [40  9]]\n"
     ]
    }
   ],
   "source": [
    "v = np.array([[3,-5],[5,1]])\n",
    "w = np.array([[2,1],[8,9]])\n",
    "\n",
    "c = v * w # operacion no definida en algebra lineal pero si en mate como \"Producto hadamard\" , elemento por elemento.\n",
    "\n",
    "print(v)\n",
    "print(w)\n",
    "\n",
    "print(\"v o w:\")\n",
    "print(c)"
   ]
  },
  {
   "cell_type": "code",
   "execution_count": 11,
   "metadata": {},
   "outputs": [
    {
     "name": "stdout",
     "output_type": "stream",
     "text": [
      "[[ 3 -5]\n",
      " [ 5  1]]\n",
      "[[2 1]\n",
      " [8 9]]\n",
      "v/w:\n",
      "[[ 1.5        -5.        ]\n",
      " [ 0.625       0.11111111]]\n"
     ]
    }
   ],
   "source": [
    "v = np.array([[3,-5],[5,1]])\n",
    "w = np.array([[2,1],[8,9]])\n",
    "\n",
    "c = v / w # operacion no definida matematicamente\n",
    "\n",
    "print(v)\n",
    "print(w)\n",
    "\n",
    "print(\"v/w:\")\n",
    "print(c)"
   ]
  },
  {
   "cell_type": "code",
   "execution_count": 26,
   "metadata": {},
   "outputs": [
    {
     "name": "stdout",
     "output_type": "stream",
     "text": [
      "[[ 3 -5]\n",
      " [ 5  1]]\n",
      "[[2 1]\n",
      " [8 9]]\n",
      "v%w:\n",
      "[[1 0]\n",
      " [5 1]]\n"
     ]
    }
   ],
   "source": [
    "v = np.array([[3,-5],[5,1]])\n",
    "w = np.array([[2,1],[8,9]])\n",
    "\n",
    "c = v % w\n",
    "\n",
    "print(v)\n",
    "print(w)\n",
    "\n",
    "print(\"v%w:\")\n",
    "print(c)"
   ]
  },
  {
   "cell_type": "markdown",
   "metadata": {},
   "source": [
    "### Multiplicacion de matriz por escalar\n",
    "\n",
    "Otra operacion comun que si esta definida matematicamente es la multiplicacion de una matriz por un escalar(o visceversa)  sintacticamente se logra al aplicar el operador \"*\" entre un escalar y una matriz y el resultado consiste en multiplicar cada elemento de la matriz por ese escalar.\n",
    "\n",
    "<img src=\"https://lh5.googleusercontent.com/-2ugN4HFUxlk/TYlR2fRec5I/AAAAAAAAAEk/HXbZycUcU2o/s1600/Sin+t%25C3%25ADtulo1.png\">\n"
   ]
  },
  {
   "cell_type": "code",
   "execution_count": 27,
   "metadata": {},
   "outputs": [
    {
     "name": "stdout",
     "output_type": "stream",
     "text": [
      "Matriz original:\n",
      "[[ 3 -5]\n",
      " [ 5  1]]\n",
      "Matriz multiplicada por 2:\n",
      "[[  6 -10]\n",
      " [ 10   2]]\n"
     ]
    }
   ],
   "source": [
    "print(\"Matriz original:\")\n",
    "print(v)\n",
    "print(\"Matriz multiplicada por 2:\")\n",
    "\n",
    "multiplicacion_matriz_escalar = 2*v\n",
    "print(multiplicacion_matriz_escalar)"
   ]
  },
  {
   "cell_type": "markdown",
   "metadata": {},
   "source": [
    "**Nota**: este es un ejemplo de \"broadcasting\" , tema a tratar con mayor detalle mas adelante, el codigo anterior es equivalente a el siguiente codigo."
   ]
  },
  {
   "cell_type": "code",
   "execution_count": 28,
   "metadata": {},
   "outputs": [
    {
     "name": "stdout",
     "output_type": "stream",
     "text": [
      "[[ 3 -5]\n",
      " [ 5  1]]\n",
      "\n",
      "[[2 2]\n",
      " [2 2]]\n",
      "\n",
      "[[  6 -10]\n",
      " [ 10   2]]\n"
     ]
    }
   ],
   "source": [
    "matriz_dos = np.full((v.shape),2) # crear una matriz con la misma forma de v inicializad con el numero 2\n",
    "multiplicacion_matriz_escalar = matriz_dos*v  # aplicar multiplicacion elemento por elemento\n",
    "\n",
    "print(v)\n",
    "print(\"\")\n",
    "print(matriz_dos)\n",
    "print(\"\")\n",
    "print(multiplicacion_matriz_escalar)"
   ]
  },
  {
   "cell_type": "markdown",
   "metadata": {},
   "source": [
    "Podemos crear expresiones  que combinen mas de 1 operacion matricial, solo debemos recordar tener precaucion de que las dimensiones y formas de las matrices y/o vectores."
   ]
  },
  {
   "cell_type": "code",
   "execution_count": 29,
   "metadata": {},
   "outputs": [
    {
     "name": "stdout",
     "output_type": "stream",
     "text": [
      "[[ 8.5  8.5  8.5]\n",
      " [ 8.5  8.5  8.5]\n",
      " [ 8.5  8.5  8.5]]\n"
     ]
    }
   ],
   "source": [
    "A = np.full((3,3),7) #7\n",
    "B = np.ones_like(A) # 1\n",
    "C = np.full((A.shape),2) #2\n",
    "\n",
    "c = 1.5 \n",
    "\n",
    "D = c*A  + B - c*C #1.5(7) + 1  - 1.5(2)\n",
    "\n",
    "print(D)"
   ]
  },
  {
   "cell_type": "code",
   "execution_count": 14,
   "metadata": {},
   "outputs": [
    {
     "name": "stdout",
     "output_type": "stream",
     "text": [
      "[[6 6 6]\n",
      " [7 7 7]\n",
      " [7 7 7]]\n",
      "[[1 1 1]\n",
      " [8 8 8]\n",
      " [1 1 1]]\n",
      "[[ 7.   7.   7. ]\n",
      " [15.5 15.5 15.5]\n",
      " [ 8.5  8.5  8.5]]\n"
     ]
    }
   ],
   "source": [
    "A = np.full((3,3),7) #7\n",
    "A[0] = 6 #cambiamos la primera fila de A para almacenar el valor 6, el resto se queda igual\n",
    "B = np.ones_like(A) # 1\n",
    "B[1] = A[0] + 2 # La segunda fila de B almacenara el valor de la primera de A + 2 ,es decir 8\n",
    "C = np.full((A.shape),2) #2\n",
    "\n",
    "c = 1.5 \n",
    "\n",
    "D = c*A  + B - c*C \n",
    "print(A)\n",
    "print(B)\n",
    "print(D)"
   ]
  },
  {
   "cell_type": "code",
   "execution_count": 31,
   "metadata": {},
   "outputs": [
    {
     "name": "stdout",
     "output_type": "stream",
     "text": [
      "[[ 1 -6]\n",
      " [-3 -8]]\n",
      "[[ 6 -5]\n",
      " [40  9]]\n",
      "[[ 1.5        -5.        ]\n",
      " [ 0.625       0.11111111]]\n",
      "[[1 0]\n",
      " [5 1]]\n"
     ]
    }
   ],
   "source": [
    "v = np.array([[3,-5],[5,1]])\n",
    "w = np.array([[2,1],[8,9]])\n",
    "\n",
    "resta = v - w\n",
    "multiplicacion = v*w\n",
    "division = v/w\n",
    "div_mod = v%w\n",
    "\n",
    "print(resta)\n",
    "print(multiplicacion)\n",
    "print(division)\n",
    "print(div_mod)"
   ]
  },
  {
   "cell_type": "markdown",
   "metadata": {},
   "source": [
    "Los operadores +=,-=,*=,/=,%=  , también son validos en vectores con NumPy y son mas eficientes, por ejemplo:\n",
    "\n",
    "a+=b\n",
    "\n",
    "Es mas eficiente que\n",
    "\n",
    "a = a + b\n",
    "\n",
    "Por lo tanto se recomienda usarlos siempre que sea posible :"
   ]
  },
  {
   "cell_type": "code",
   "execution_count": 32,
   "metadata": {},
   "outputs": [
    {
     "name": "stdout",
     "output_type": "stream",
     "text": [
      "[[  9 -15]\n",
      " [ 15   3]]\n"
     ]
    }
   ],
   "source": [
    "v*=3\n",
    "\n",
    "print(v)"
   ]
  },
  {
   "cell_type": "markdown",
   "metadata": {},
   "source": [
    "### Multiplicación Matricial \n",
    "\n",
    "Una de las operaciones mas importantes tanto en matemáticas como en ciencias de la computación y ciencia de datos y también una de las mas comunes es la multiplicación matricial, que podemos conceptualizar de 2 maneras:\n",
    "\n",
    "* **Matriz por vector**\n",
    "* **Matriz por matriz**\n",
    "\n",
    "Esta es una operación sumamente utilizada e importante y es diferente de las que hasta ahora habiamos visto: **operaciones elemento por elemento** por lo cual NO ES IGUAL QUE EL PRODUCTO HADAMARD.\n",
    "\n",
    "El producto matricial **AxB** solo esta definido para pares de matrices que cumplen con la propiedad de que el número de columnas de A sea igual que el número de filas de B. El resultado es una nueva matriz cuyo numero de filas es igual al número de filas de A y el número de columnas es igual al número de columnas de B\n",
    "\n",
    "<img src=\"https://www.geogebra.org/resource/jyFms9hh/gWfr05GxoKt6c3JS/material-jyFms9hh.png\">\n",
    "\n",
    "La forma de calcular la multiplicación matricial AxB se basa en el producto punto, para la matriz de resultado C el elemento en la fila \"i\" y columna \"j\" consiste en el producto punto entre la fila \"i\" de A y la columna \"j\" de B.\n",
    "\n",
    "Por lo cual contrario a lo que muchos creen, la multiplicación matricial **NO ES LO MISMO QUE EL PRODUCTO PUNTO** pero si lo utiliza ,la matriz resultante es una matriz de productos punto.\n",
    "\n",
    "<img src=\"https://www.mathsisfun.com/algebra/images/matrix-multiply-a.svg\">"
   ]
  },
  {
   "cell_type": "code",
   "execution_count": 15,
   "metadata": {},
   "outputs": [
    {
     "data": {
      "text/plain": [
       "array([[ 5],\n",
       "       [11]])"
      ]
     },
     "execution_count": 15,
     "metadata": {},
     "output_type": "execute_result"
    }
   ],
   "source": [
    "A = np.array([[1,2],   #matriz 2x2\n",
    "              [3,4]])\n",
    "B = np.array([[1],    # vector 2x1\n",
    "              [2]])\n",
    "\n",
    "np.matmul(A,B) #numero de cols de A debe ser igual al numero de filas de B ,resultado 2x1"
   ]
  },
  {
   "cell_type": "code",
   "execution_count": 34,
   "metadata": {},
   "outputs": [
    {
     "data": {
      "text/plain": [
       "array([[ 1, 12,  7],\n",
       "       [ 4, 33, 22],\n",
       "       [ 7, 54, 37]])"
      ]
     },
     "execution_count": 34,
     "metadata": {},
     "output_type": "execute_result"
    }
   ],
   "source": [
    "A = np.array([[1,2], #matriz de 3x2\n",
    "              [4,5],\n",
    "              [7,8]])\n",
    "B = np.array([[1,2,3], #matriz de 2x3\n",
    "              [0,5,2]])\n",
    "\n",
    "np.matmul(A,B) #resutlado de 3x3"
   ]
  },
  {
   "cell_type": "code",
   "execution_count": 35,
   "metadata": {},
   "outputs": [
    {
     "name": "stdout",
     "output_type": "stream",
     "text": [
      "[[ 58  64]\n",
      " [139 154]]\n"
     ]
    }
   ],
   "source": [
    "A = np.array([[1,2,3], #matriz 2x3\n",
    "              [4,5,6]])\n",
    "B = np.array([[7,8],  #matriz 3x2\n",
    "              [9,10],\n",
    "              [11,12]])\n",
    "C = np.matmul(A,B) #matriz de resultado 2x2\n",
    "\n",
    "print(C)"
   ]
  },
  {
   "cell_type": "markdown",
   "metadata": {},
   "source": [
    "\n",
    "\n",
    "**Ejemplo en DS** : en inteligencia artificial y ML en la sub-rama \"reinforcement learning\" la \"ecuacion de bellman\" puede aplicarse de manera vectorizada a traves del operar vectores, matrices y escalares en una sola expresion.\n",
    "\n",
    "<img src=\"https://rebornhugo.github.io/assets/images/post_images/%E5%BC%BA%E5%8C%96%E5%AD%A6%E4%B9%A02/bellman%20equation2.PNG\">\n",
    "\n",
    "* n = numero de estados del sistema.\n",
    "* V(s) = vector que representa el valor esperado para cierto estado\n",
    "* R = recompensa inmediata percibida por el agente al salir de cierto estado.(vector)\n",
    "* P = matriz de transicion de la cadena de Markov sub-yacente.(matriz)\n",
    "* γ = factor de descuento de recompensas futuras(escalar)\n",
    "\n",
    "Calcular V(s) para el siguiente sistema aplicando la ecuación de bellman de manera vectorizada."
   ]
  },
  {
   "cell_type": "code",
   "execution_count": 18,
   "metadata": {},
   "outputs": [
    {
     "name": "stdout",
     "output_type": "stream",
     "text": [
      "[[10.  2.  5.]\n",
      " [10.  2.  5.]\n",
      " [10.  2.  5.]]\n"
     ]
    }
   ],
   "source": [
    "V = np.array([0,0,0]) # valor inicial de V(s)\n",
    "R = np.array([10,2,5]) # vector de recompensas\n",
    "P = np.array([[0.5,0.25,0.25],\n",
    "              [0.2,0.40,0.40],\n",
    "              [0.80,0.10,0.10]])  # matriz de transición\n",
    "gamma = 0.99\n",
    "\n",
    "result = R + gamma*(P*V)\n",
    "print(result)\n"
   ]
  },
  {
   "cell_type": "markdown",
   "metadata": {},
   "source": [
    "**Ejercicio aplicado en DS**\n",
    "Se tiene una red neuronal sencilla(y simplificada) como la de la siguiente imagen:\n",
    "<img src=\"https://www.oreilly.com/library/view/practical-convolutional-neural/9781788392303/assets/246151fb-7893-448d-b9bb-7a87b387a24b.png\">\n",
    "\n",
    "Donde:\n",
    "* INPUT LAYER: un vector X de tamaño = 2 que representa los datos de entrada\n",
    "* HIDDEN_LAYER :capa oculta con 2 neuronas definidas por los vectores:\n",
    "    * HL1 = [0.25,0.37]\n",
    "    * HL2 = [-8,14]\n",
    "* OUTPUT_LAYER = capa de salida definida por el vector [4,9]\n",
    "\n",
    "Crear una funcion neural_network(X) para calcular:\n",
    "* Calcule la salida de cada neurona en la capa intermedia aplicada a la capa de entrada.\n",
    "* Use el resultado del paso anterior como entrada para la neurona en la capa de salida\n",
    "\n",
    "Utilizando multiplicacion de matrices se debe calcular para cada fila de la matriz de entrada X el valor de las neuronas de la capa intermedia, esto producira una nueva matriz con el mismo numero de filas que X y 2 columnas(1 para cada neurona) , a  los valores de esta matriz se les debe aplicar la funcion \"sigmoid\"(descrita a continuacion) para limitarlos al intervalo de 0 a 1, esto produce una matriz del mismo tamanio pero con valores entre 0 a 1, esta matriz se multiplica matricialmente por la matriz que representa los pesos de la capa de salida  y este proceso produce un nuevo tensor al cual se debe aplicar nuevamente la funcion sigmoid. El resultado debe ser un tensor con el mismo numero de filas que la matriz X y una sola columna(una prediccion para cada fila de X\n",
    "\n",
    "<img src=\"https://cdn-images-1.medium.com/max/1600/1*Xu7B5y9gp0iL5ooBj7LtWw.png\">"
   ]
  },
  {
   "cell_type": "code",
   "execution_count": 37,
   "metadata": {
    "collapsed": true
   },
   "outputs": [],
   "source": [
    "def sigmoid(x): #convertir los valores de x al rango de 0 a 1\n",
    "    \n",
    "    return 1/(1+np.exp(x))"
   ]
  },
  {
   "cell_type": "code",
   "execution_count": 38,
   "metadata": {},
   "outputs": [
    {
     "name": "stdout",
     "output_type": "stream",
     "text": [
      "[[ 0.04861868]\n",
      " [ 0.25281623]]\n"
     ]
    }
   ],
   "source": [
    "H1_W = np.array([[0.25,-8],\n",
    "                 [0.37,14]])\n",
    "OL_W = np.array([[4],[9]])\n",
    "\n",
    "X =  np.array([[0.1,0.2],\n",
    "               [1,2]])\n",
    "\n",
    "H1 = np.matmul(X,H1_W)\n",
    "H1 = sigmoid(H1)  # funcion de activacion: convertir a valores en el intervalo de 0 a 1\n",
    "OL = np.matmul(H1,OL_W)\n",
    "OL = sigmoid(OL)  # funcion de activacion: convertir a valores en el intervalo de 0 a 1\n",
    "\n",
    "\n",
    "print(OL)"
   ]
  },
  {
   "cell_type": "markdown",
   "metadata": {},
   "source": [
    "### Ejercicio \n",
    "\n",
    "Implementar en una funcion neural_network(X) la red neuronal definida por la siguiente arquitectura:\n",
    "\n",
    "<img src=\"http://i.imgur.com/UNlffE1.png\">\n",
    "\n",
    "Podemos validar si fue correctamente implementada si usamos como entrada el vector x=[1,1] . Debemos obtener el resultado mostrado en la imagen.\n",
    "\n",
    "Una vez tenemos la implementacion correcta, cambiar la funcion de activacion de la capa de salida por la funcion de activacion ReLu(https://en.wikipedia.org/wiki/Rectifier_(neural_networks)):\n",
    "\n",
    "<img src=\"https://cdn-images-1.medium.com/max/1600/1*DfMRHwxY1gyyDmrIAd-gjQ.png\">\n",
    "\n",
    "Luego evaluar la red neuronal sobre la matriz de datos X(de manera vectorizada):"
   ]
  },
  {
   "cell_type": "code",
   "execution_count": 39,
   "metadata": {},
   "outputs": [],
   "source": [
    "X = np.array([\n",
    "    [0.1,2],\n",
    "    [0.3,0.45],\n",
    "    [5,9],\n",
    "    [12,6],\n",
    "    [7,5],\n",
    "    [0.3,0.8],\n",
    "    [12,5],\n",
    "    [100,200],\n",
    "    [7,8],\n",
    "    [300,1500]]) \n"
    "\n",
    "def sigmoid(x): #nueva definicion de funcion correcta\n",
    "    return 1/(1+np.exp(-x))\n",
    "\n",
    "def neural_network(m):\n",
    "    hidden_layer = np.array([[0.712,0.355,0.268],[0.112,0.855,0.468]])\n",
    "    output_layer = np.array([[0.116],[0.329],[0.708]])\n",
    "    x_1 = np.matmul(m,hidden_layer)\n",
    "    x_1 = sigmoid(x_1)\n",
    "    result = np.matmul(x_1,output_layer)\n",
    "    result = sigmoid(result)\n",
    "    return result\n",
    "\n",
    "prueba = np.array([[1,1]])\n",
    "print(neural_network(prueba))\n",
    "print(neural_network(X))"    
   ]
  },
  {
   "cell_type": "markdown",
   "metadata": {},
   "source": [
    "### Broadcasting\n",
    "\n",
    "Python utiliza un mecanismo conocido como **\"broadcasting\"** para algunas operaciones cuando el tamaño de los operandos no coincide, por ejemplo el caso de una suma entre una matriz y un vector, broadcasting \"expande\"(siempre que sea posible) el vector para que tenga la misma forma que la matriz replicando el vector cuantas veces sea necesario para tener la misma forma y luego aplica la operacion **\"elementwise\"** (elemento a elemento).\n",
    "\n",
    "Para cuando se trabaja con matrices y una matriz A se opera con algún vector B broadcasting busca replicar o copiar el vector las veces que sea necesario para obtener una matriz del mismo tamaño , por ejemplo si se tiene una matriz de tamaño 4x5 , y un vector de 4 elementos, broadcasting creará una matriz que consiste en copiar el vector de 4 elementos 5 veces.\n",
    "\n",
    "Broadcasting no funciona en casos donde las dimensiones no son compatibles, por ejemplo para el caso anterior, broadcasting no  hubiera funcionado si el vector tuviera 3 elementos y hubiera resultado en un error: **operands could not be broadcast together with shapes ... **\n",
    "\n",
    "* https://www.youtube.com/watch?v=YrOrAcMjFB4\n",
    "* https://docs.scipy.org/doc/numpy/user/basics.broadcasting.html"
   ]
  },
  {
   "cell_type": "code",
   "execution_count": 40,
   "metadata": {
    "collapsed": true
   },
   "outputs": [],
   "source": [
    "matriz = np.array([[1,2,3,10],  #matriz de 3x4\n",
    "                   [4,5,6,11],\n",
    "                   [7,8,9,12]])\n",
    "colum_vector = np.array(  # vector orientado columnarmente\n",
    "                  [1,\n",
    "                   2,\n",
    "                   3]).reshape((3,1))\n",
    "row_vector = np.array([1,2,3,4]).reshape((1,4)) # vector orientado por filas"
   ]
  },
  {
   "cell_type": "code",
   "execution_count": 41,
   "metadata": {},
   "outputs": [
    {
     "name": "stdout",
     "output_type": "stream",
     "text": [
      "(3, 4)\n",
      "(3, 1)\n",
      "(1, 4)\n"
     ]
    }
   ],
   "source": [
    "print(matriz.shape)\n",
    "print(colum_vector.shape)\n",
    "print(row_vector.shape)"
   ]
  },
  {
   "cell_type": "code",
   "execution_count": 42,
   "metadata": {},
   "outputs": [
    {
     "data": {
      "text/plain": [
       "array([[ 2,  3,  4, 11],\n",
       "       [ 6,  7,  8, 13],\n",
       "       [10, 11, 12, 15]])"
      ]
     },
     "execution_count": 42,
     "metadata": {},
     "output_type": "execute_result"
    }
   ],
   "source": [
    "matriz + colum_vector #operación no definida matemáticamente pero posible con broadcasting"
   ]
  },
  {
   "cell_type": "code",
   "execution_count": 43,
   "metadata": {},
   "outputs": [
    {
     "data": {
      "text/plain": [
       "array([[ 2,  4,  6, 14],\n",
       "       [ 5,  7,  9, 15],\n",
       "       [ 8, 10, 12, 16]])"
      ]
     },
     "execution_count": 43,
     "metadata": {},
     "output_type": "execute_result"
    }
   ],
   "source": [
    "matriz + row_vector #operación no definida matemáticamente pero posible con broadcasting"
   ]
  },
  {
   "cell_type": "code",
   "execution_count": 44,
   "metadata": {},
   "outputs": [
    {
     "data": {
      "text/plain": [
       "array([[0, 1, 2, 9],\n",
       "       [2, 3, 4, 9],\n",
       "       [4, 5, 6, 9]])"
      ]
     },
     "execution_count": 44,
     "metadata": {},
     "output_type": "execute_result"
    }
   ],
   "source": [
    "matriz - colum_vector #operación no definida matemáticamente pero posible con broadcasting "
   ]
  },
  {
   "cell_type": "code",
   "execution_count": 45,
   "metadata": {},
   "outputs": [
    {
     "data": {
      "text/plain": [
       "array([[ 1,  4,  9, 40],\n",
       "       [ 4, 10, 18, 44],\n",
       "       [ 7, 16, 27, 48]])"
      ]
     },
     "execution_count": 45,
     "metadata": {},
     "output_type": "execute_result"
    }
   ],
   "source": [
    "matriz * row_vector #operación no definida matemáticamente pero posible con broadcasting"
   ]
  },
  {
   "cell_type": "code",
   "execution_count": 46,
   "metadata": {
    "collapsed": true
   },
   "outputs": [],
   "source": [
    "colum_vector = np.array(  # vector orientado columnarmente\n",
    "                  [1,\n",
    "                   2,\n",
    "                   3,\n",
    "                   4]).reshape((4,1))\n",
    "# la siguiente linea intentaa operar una matriz de 3x4 con un vector incompatible de 4x1 resultando en error\n",
    "#matriz + colum_vector"
   ]
  },
  {
   "cell_type": "markdown",
   "metadata": {},
   "source": [
    "### Funciones miscelaneas(agregación y estadistica descriptiva básica) \n",
    "\n",
    "Ya hemos trabajado algunas funciones de NumPy pero han sido funciones \"elementwise\" cuyo vector resultante tiene el mismo tamaño que el vector de entrada, existen muchas otras funciones que utilizamos en casos en los que necesitamos agregar,resumir cierta matriz,incluyendo en este tipo de funciones algunas de estadistica descriptiva básica.\n",
    "\n",
    "En esta sección estudiamos funciones ya estudiadas previamente con vectores ,pero como veremos podemos configurar su comportamiento para lograr comportamientos específicos para matrices.\n",
    "\n",
    "Podemos utilizar un segundo parámetro llamado **axis** para especificar sobre que dimensión o eje del vector queremos operar, para el caso de matrices podemos hacerlo por:\n",
    "\n",
    "* axis = 0 : filas,calcula la función deseada a traves de filas y devuelve para cada columna un resultado, el resultado es un vector cuyo tamaño es igual al numero de columnas de la matriz original.\n",
    "* axis = 1 : columnas,calcula la función deseada a traves de columnas ,y devuelve para cada fila un resultado,el resultado es un vector cuyo tamaño es igual al numero de de filas de la matriz original.\n",
    "* axis = None: si especificamos axis = None ( o no lo especificamos) el  comportamiento es similar al caso de vectores, se obtiene un único resultado(escalar) para todo el tensor\n",
    "\n",
    "<img src=\"https://vrzkj25a871bpq7t1ugcgmn9-wpengine.netdna-ssl.com/wp-content/uploads/2018/11/numpy-arrays-have-axes.png\">\n",
    "\n",
    "<img src=\"https://vrzkj25a871bpq7t1ugcgmn9-wpengine.netdna-ssl.com/wp-content/uploads/2018/12/numpy-axes-np-sum-axis-0.png\">"
   ]
  },
  {
   "cell_type": "code",
   "execution_count": 47,
   "metadata": {
    "collapsed": true
   },
   "outputs": [],
   "source": [
    "x = np.array([[1,2,3,4,5],\n",
    "              [6,7,8,9,2]])\n",
    "\n",
    "x_nan = np.array([[1,2,3,4,np.nan],\n",
    "                  [6,8,2,2,16]])"
   ]
  },
  {
   "cell_type": "markdown",
   "metadata": {},
   "source": [
    "Si no especificamos el parametro axis, el comportamiento es similar al obtenido con vectores."
   ]
  },
  {
   "cell_type": "code",
   "execution_count": 48,
   "metadata": {},
   "outputs": [
    {
     "name": "stdout",
     "output_type": "stream",
     "text": [
      "9\n",
      "9\n",
      "nan\n",
      "9\n",
      "16.0\n"
     ]
    }
   ],
   "source": [
    "print(np.max(x))\n",
    "print(x.max())\n",
    "print(np.max(x_nan))\n",
    "print(np.nanmax(x))\n",
    "print(np.nanmax(x_nan))"
   ]
  },
  {
   "cell_type": "code",
   "execution_count": 49,
   "metadata": {},
   "outputs": [
    {
     "name": "stdout",
     "output_type": "stream",
     "text": [
      "Maximo de cada fíla de x a traves de las columnas:\n",
      "[5 9]\n",
      "Maximo de cada cada columna de x a traves de las filas:\n",
      "[6 7 8 9 5]\n",
      "Maximo de cada cada columna de x_nan a traves de las filas:\n",
      "[  6.   8.   3.   4.  nan]\n",
      "Maximo ignorando nans de cada fíla de x a traves de las columnas:\n",
      "[5 9]\n",
      "Maximo de cada fila a traves de columnas de x_nan,ignorando nans:\n",
      "[  4.  16.]\n"
     ]
    }
   ],
   "source": [
    "#al usar axis con matrices que contienen nan se obtiene nan solo en la fila o columna que posea valores nan\n",
    "#siimlar al caso de vectores podemos usar nanmax para ignorar nans\n",
    "\n",
    "print(\"Maximo de cada fíla de x a traves de las columnas:\")\n",
    "print(np.max(x,axis = 1))\n",
    "print(\"Maximo de cada cada columna de x a traves de las filas:\")\n",
    "print(x.max(axis=0))\n",
    "print(\"Maximo de cada cada columna de x_nan a traves de las filas:\")\n",
    "print(np.max(x_nan,axis=0))\n",
    "print(\"Maximo ignorando nans de cada fíla de x a traves de las columnas:\")\n",
    "print(np.nanmax(x,axis=1))\n",
    "print(\"Maximo de cada fila a traves de columnas de x_nan,ignorando nans:\")\n",
    "print(np.nanmax(x_nan,axis=1))"
   ]
  },
  {
   "cell_type": "code",
   "execution_count": 50,
   "metadata": {},
   "outputs": [
    {
     "name": "stdout",
     "output_type": "stream",
     "text": [
      "Minimo general de la matriz x:\n",
      "1\n",
      "Minimo general ignorando valores nan de la matriz x_nan:\n",
      "4\n",
      "Minimo de cada fíla de x a traves de las columnas:\n",
      "[1 2]\n",
      "Minimo de cada cada columna de x a traves de las filas:\n",
      "[1 2 3 4 2]\n",
      "Minimo de cada cada columna de x_nan a traves de las filas:\n",
      "[  1.   2.   2.   2.  nan]\n",
      "Minimo ignorando nans de cada fíla de x a traves de las columnas:\n",
      "[1 2]\n",
      "Minimo de cada fila a traves de columnas de x_nan,ignorando nans:\n",
      "[ 1.  2.]\n"
     ]
    }
   ],
   "source": [
    "#al usar axis con matrices que contienen nan se obtiene nan solo en la fila o columna que posea valores nan\n",
    "#siimlar al caso de vectores podemos usar nanmin para ignorar nans\n",
    "\n",
    "print(\"Minimo general de la matriz x:\")\n",
    "print(np.min(x))\n",
    "print(\"Minimo general ignorando valores nan de la matriz x_nan:\")\n",
    "print(np.argmin(x_nan))\n",
    "print(\"Minimo de cada fíla de x a traves de las columnas:\")\n",
    "print(np.min(x,axis = 1))\n",
    "print(\"Minimo de cada cada columna de x a traves de las filas:\")\n",
    "print(x.min(axis=0))\n",
    "print(\"Minimo de cada cada columna de x_nan a traves de las filas:\")\n",
    "print(np.min(x_nan,axis=0))\n",
    "print(\"Minimo ignorando nans de cada fíla de x a traves de las columnas:\")\n",
    "print(np.nanmin(x,axis=1))\n",
    "print(\"Minimo de cada fila a traves de columnas de x_nan,ignorando nans:\")\n",
    "print(np.nanmin(x_nan,axis=1))"
   ]
  },
  {
   "cell_type": "markdown",
   "metadata": {},
   "source": [
    "#### argmax y argmin para matrices\n",
    "\n",
    "Al estudiar vectores las funciones argmax y argmin nos proveian una forma de encontrar la posición(o indice) del valor máximo o mínimo del vector. Para matrices debemos especificar el comportamiento deseado nuevamente a través del parametro axis, cuando este es 0 o 1 el comportamiento es similar al ya visto previamente, pero cuando este no es especificado o se usa el valor None necesitamos poner atención al comportamiento: **La matriz es interpretada como un vector obtenido al colapsar todas las filas de la matriz** y argmax,argmin se comportarán como si se aplicaran sobre este vector."
   ]
  },
  {
   "cell_type": "code",
   "execution_count": 51,
   "metadata": {},
   "outputs": [
    {
     "name": "stdout",
     "output_type": "stream",
     "text": [
      "[[ 4  6  9]\n",
      " [ 2  1 11]]\n"
     ]
    }
   ],
   "source": [
    "x = np.array([[4,6,9],\n",
    "              [2,1,11]])\n",
    "print(x)"
   ]
  },
  {
   "cell_type": "code",
   "execution_count": 52,
   "metadata": {},
   "outputs": [
    {
     "name": "stdout",
     "output_type": "stream",
     "text": [
      "[1 1 0]\n",
      "[2 1 9]\n"
     ]
    }
   ],
   "source": [
    "print(np.argmin(x,axis=0))\n",
    "print(x.min(axis=0))"
   ]
  },
  {
   "cell_type": "code",
   "execution_count": 53,
   "metadata": {},
   "outputs": [
    {
     "name": "stdout",
     "output_type": "stream",
     "text": [
      "[2 2]\n",
      "[ 9 11]\n"
     ]
    }
   ],
   "source": [
    "print(np.argmax(x,axis=1))\n",
    "print(x.max(axis=1))"
   ]
  },
  {
   "cell_type": "code",
   "execution_count": 54,
   "metadata": {},
   "outputs": [
    {
     "name": "stdout",
     "output_type": "stream",
     "text": [
      "4 5\n"
     ]
    }
   ],
   "source": [
    "print(np.argmin(x),np.argmax(x))"
   ]
  },
  {
   "cell_type": "markdown",
   "metadata": {},
   "source": [
    "El resultado de aplicar argmin y argmax sobre la matriz sin especificar el axis es equivalente a el siguiente código:"
   ]
  },
  {
   "cell_type": "code",
   "execution_count": 55,
   "metadata": {},
   "outputs": [
    {
     "data": {
      "text/plain": [
       "array([ 4,  6,  9,  2,  1, 11])"
      ]
     },
     "execution_count": 55,
     "metadata": {},
     "output_type": "execute_result"
    }
   ],
   "source": [
    "x_vector = np.reshape(x,-1)\n",
    "\n",
    "x_vector"
   ]
  },
  {
   "cell_type": "code",
   "execution_count": 56,
   "metadata": {},
   "outputs": [
    {
     "name": "stdout",
     "output_type": "stream",
     "text": [
      "4 5\n"
     ]
    }
   ],
   "source": [
    "print(np.argmin(x_vector),np.argmax(x_vector))"
   ]
  },
  {
   "cell_type": "markdown",
   "metadata": {},
   "source": [
    "#### suma,producto(normal y acumulativa) para matrices.\n",
    "\n",
    "Nuevamente tenemos en el caso de matrices funciones que también existian en vectores y que pueden ser configuradas para trabajar a través de filas,columnas o general a través del parámetro axis, en este caso tratamos con suma y producto a través de las filas(axis=0), columnas(axis=1) o sobre toda la matriz(axis=None)"
   ]
  },
  {
   "cell_type": "code",
   "execution_count": 57,
   "metadata": {},
   "outputs": [
    {
     "name": "stdout",
     "output_type": "stream",
     "text": [
      "[[ 4  6  9]\n",
      " [ 2  1 11]]\n"
     ]
    }
   ],
   "source": [
    "x = np.array([[4,6,9],\n",
    "              [2,1,11]])\n",
    "print(x)"
   ]
  },
  {
   "cell_type": "code",
   "execution_count": 58,
   "metadata": {},
   "outputs": [
    {
     "name": "stdout",
     "output_type": "stream",
     "text": [
      "Dos formas de obtener la suma de todos los elementos de la matriz x:\n",
      "33\n",
      "33\n",
      "Si aplicamos sum() sobre una matriz con al menos un elemento 'nan' el resultado es nan:\n",
      "nan\n",
      "Para ignorar valores 'nan' y sumar el resto podemos usar nansum() en lugar de sum():\n",
      "44.0\n"
     ]
    }
   ],
   "source": [
    "print(\"Dos formas de obtener la suma de todos los elementos de la matriz x:\")\n",
    "print(np.sum(x))\n",
    "print(x.sum())\n",
    "print(\"Si aplicamos sum() sobre una matriz con al menos un elemento 'nan' el resultado es nan:\")\n",
    "print(np.sum(x_nan))\n",
    "print(\"Para ignorar valores 'nan' y sumar el resto podemos usar nansum() en lugar de sum():\")\n",
    "print(np.nansum(x_nan))"
   ]
  },
  {
   "cell_type": "code",
   "execution_count": 59,
   "metadata": {},
   "outputs": [
    {
     "name": "stdout",
     "output_type": "stream",
     "text": [
      "[ 6  7 20]\n",
      "[19 14]\n",
      "[  7.  10.   5.   6.  nan]\n",
      "[ 10.  34.]\n"
     ]
    }
   ],
   "source": [
    "print(np.sum(x,axis=0))\n",
    "print(x.sum(axis=1))\n",
    "print(np.sum(x_nan,axis=0))\n",
    "print(np.nansum(x_nan,axis=1))"
   ]
  },
  {
   "cell_type": "code",
   "execution_count": 60,
   "metadata": {},
   "outputs": [
    {
     "name": "stdout",
     "output_type": "stream",
     "text": [
      "4752\n",
      "4752\n",
      "nan\n",
      "73728.0\n"
     ]
    }
   ],
   "source": [
    "print(np.prod(x))\n",
    "print(x.prod())\n",
    "print(np.prod(x_nan))\n",
    "print(np.nanprod(x_nan))"
   ]
  }
 ],
 "metadata": {
  "kernelspec": {
   "display_name": "Python 3",
   "language": "python",
   "name": "python3"
  },
  "language_info": {
   "codemirror_mode": {
    "name": "ipython",
    "version": 3
   },
   "file_extension": ".py",
   "mimetype": "text/x-python",
   "name": "python",
   "nbconvert_exporter": "python",
   "pygments_lexer": "ipython3",
   "version": "3.6.5"
  }
 },
 "nbformat": 4,
 "nbformat_minor": 2
}
